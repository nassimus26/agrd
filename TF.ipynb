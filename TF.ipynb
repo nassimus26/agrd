{
 "cells": [
  {
   "cell_type": "code",
   "metadata": {
    "id": "gvdYoTqq5hQl",
    "ExecuteTime": {
     "end_time": "2024-11-27T20:08:04.185350Z",
     "start_time": "2024-11-27T20:08:04.181366Z"
    }
   },
   "source": [
    "from pathlib import Path"
   ],
   "outputs": [],
   "execution_count": 83
  },
  {
   "cell_type": "code",
   "metadata": {
    "colab": {
     "base_uri": "https://localhost:8080/"
    },
    "id": "hRi-J2JoUIS-",
    "outputId": "6129695c-678b-4fe4-b84a-17b812d649cb",
    "ExecuteTime": {
     "end_time": "2024-11-27T20:08:04.276859Z",
     "start_time": "2024-11-27T20:08:04.271213Z"
    }
   },
   "source": [
    "RunningInCOLAB = 'google.colab' in str(get_ipython())\n",
    "if RunningInCOLAB:\n",
    "  from google.colab import drive\n",
    "  drive.mount('/content/drive')"
   ],
   "outputs": [],
   "execution_count": 84
  },
  {
   "cell_type": "code",
   "metadata": {
    "id": "Y5tJLHNhUXHg",
    "ExecuteTime": {
     "end_time": "2024-11-27T20:08:04.499928Z",
     "start_time": "2024-11-27T20:08:04.494361Z"
    }
   },
   "source": [
    "if RunningInCOLAB:\n",
    "  my_file = Path(\"trainm\")\n",
    "  if my_file.exists()==False:\n",
    "    !unzip drive/\"My Drive\"/trainm.zip"
   ],
   "outputs": [],
   "execution_count": 85
  },
  {
   "cell_type": "code",
   "metadata": {
    "id": "nOBtj0HT09pG",
    "ExecuteTime": {
     "end_time": "2024-11-27T20:08:04.765352Z",
     "start_time": "2024-11-27T20:08:04.667194Z"
    }
   },
   "source": [
    "if False and RunningInCOLAB:\n",
    "  kaggle_folder = Path(\".kaggle\")\n",
    "  if Path(\"rvdata\").exists()==False:\n",
    "    !pip install -q kaggle\n",
    "    !mkdir ~/.kaggle\n",
    "    !cp drive/\"My Drive\"/kaggle.json ~/.kaggle/\n",
    "    !chmod 600 ~/.kaggle/kaggle.json\n",
    "    !kaggle datasets download -d mohamedmustafa/real-life-violence-situations-dataset\n",
    "    !unzip real-life-violence-situations-dataset.zip\n",
    "    !rm real-life-violence-situations-dataset.zip\n",
    "    !rm -R \"real life violence situations\"\n",
    "    !mv -T \"Real Life Violence Dataset\" \"rvdata\"\n",
    "    !kaggle datasets download -d vulamnguyen/rwf2000\n",
    "    !unzip rwf2000.zip\n",
    "    !rm rwf2000.zip\n",
    "    !mv RWF-2000/train/* RWF-2000/\n",
    "    !mv RWF-2000/val/Fight/* RWF-2000/Fight\n",
    "    !mv RWF-2000/val/NonFight/* RWF-2000/NonFight\n",
    "    !rm -R RWF-2000/train/\n",
    "    !rm -R RWF-2000/val/\n",
    "    #!git clone https://github.com/airtlab/A-Dataset-for-Automatic-Violence-Detection-in-Videos.git\n",
    "    #!mv -T A-Dataset-for-Automatic-Violence-Detection-in-Videos/violence-detection-dataset vdd\n",
    "    #!rm -R A-Dataset-for-Automatic-Violence-Detection-in-Videos\n",
    "    !kaggle datasets download -d toluwaniaremu/smartcity-cctv-violence-detection-dataset-scvd\n",
    "    !unzip smartcity-cctv-violence-detection-dataset-scvd.zip\n",
    "    !rm smartcity-cctv-violence-detection-dataset-scvd.zip\n",
    "    !rm -R SCVD/SCVD_converted_sec_split\n",
    "    !mkdir SCVD/NonViolence\n",
    "    !mkdir SCVD/Violence\n",
    "    !mv SCVD/SCVD_converted/Train/Normal/* SCVD/NonViolence\n",
    "    !mv SCVD/SCVD_converted/Train/Violence/* SCVD/Violence\n",
    "    !mv SCVD/SCVD_converted/Train/Weaponized/* SCVD/Violence\n",
    "    !mv SCVD/SCVD_converted/Test/Normal/* SCVD/NonViolence\n",
    "    !mv SCVD/SCVD_converted/Test/Violence/* SCVD/Violence\n",
    "    !mv SCVD/SCVD_converted/Test/Weaponized/* SCVD/Violence\n",
    "    !rm -R SCVD/SCVD_converted"
   ],
   "outputs": [],
   "execution_count": 86
  },
  {
   "cell_type": "code",
   "metadata": {
    "id": "X40jHPm7sB_Q",
    "ExecuteTime": {
     "end_time": "2024-11-27T20:08:04.925029Z",
     "start_time": "2024-11-27T20:08:04.919695Z"
    }
   },
   "source": [
    "#!pip install tensorflow==2.18.rc2"
   ],
   "outputs": [],
   "execution_count": 87
  },
  {
   "cell_type": "code",
   "metadata": {
    "id": "lK4Jl2KOsB_R",
    "ExecuteTime": {
     "end_time": "2024-11-27T20:08:05.088548Z",
     "start_time": "2024-11-27T20:08:05.080964Z"
    }
   },
   "source": [
    "import tensorflow as tf\n",
    "import cv2\n",
    "import numpy as np\n",
    "import matplotlib.pyplot as plt\n",
    "import os\n",
    "from numpy import save\n",
    "from numpy import load\n",
    "from sklearn.model_selection import train_test_split\n",
    "random = np.random\n",
    "layers = tf.keras.layers\n",
    "models = tf.keras.models\n",
    "losses = tf.keras.losses\n",
    "optimizers = tf.keras.optimizers\n",
    "metrics = tf.keras.metrics\n",
    "utils = tf.keras.utils\n",
    "callbacks = tf.keras.callbacks\n",
    "layers = tf.keras.layers\n",
    "models = tf.keras.models\n",
    "ImageDataGenerator = tf.keras.preprocessing.image.ImageDataGenerator\n",
    "losses = tf.keras.losses\n",
    "optimizers = tf.keras.optimizers\n",
    "metrics = tf.keras.metrics\n",
    "utils = tf.keras.utils\n",
    "callbacks = tf.keras.callbacks\n",
    "plot_model = tf.keras.utils.plot_model"
   ],
   "outputs": [],
   "execution_count": 88
  },
  {
   "cell_type": "code",
   "metadata": {
    "colab": {
     "base_uri": "https://localhost:8080/",
     "height": 211
    },
    "id": "6YWSGwMQ3cbJ",
    "outputId": "abd14846-d388-4103-b458-57c8d2cc683b",
    "ExecuteTime": {
     "end_time": "2024-11-27T20:08:05.254874Z",
     "start_time": "2024-11-27T20:08:05.248743Z"
    }
   },
   "source": [
    "mono = False\n",
    "channel_first = False\n",
    "frame_readed = 500\n",
    "frame_pages = 20\n",
    "nbr_frame = 8\n",
    "img_width = 420\n",
    "img_height = 300\n",
    "img_size = (img_height, img_width)\n",
    "input_shape = (3,) + img_size if channel_first else img_size + (3,)\n",
    "full_input_shape = (nbr_frame,) + input_shape\n",
    "print(full_input_shape)"
   ],
   "outputs": [
    {
     "name": "stdout",
     "output_type": "stream",
     "text": [
      "(8, 300, 420, 3)\n"
     ]
    }
   ],
   "execution_count": 89
  },
  {
   "cell_type": "code",
   "metadata": {
    "id": "0KJ98zybT6_s",
    "ExecuteTime": {
     "end_time": "2024-11-27T20:08:05.470649Z",
     "start_time": "2024-11-27T20:08:05.460006Z"
    }
   },
   "source": [
    "input_format = 'channels_first' if channel_first else 'channels_last'\n",
    "tf.keras.backend.set_image_data_format(\n",
    "      input_format\n",
    ")\n",
    "\n",
    "def capture(filename):\n",
    "  frames = np.zeros( (frame_readed,) +input_shape, dtype=np.float32)\n",
    "  i = 0\n",
    "  vc = cv2.VideoCapture(filename)\n",
    "  while i<frame_readed:\n",
    "      if vc.isOpened():\n",
    "          rval, frame = vc.read()\n",
    "      else:\n",
    "          print( 'Failed to read the video ' + filename)\n",
    "          return frames\n",
    "      if rval==False:\n",
    "          break\n",
    "      frm = cv2.resize(frame, (img_width, img_height))\n",
    "      frm = tf.keras.applications.efficientnet.preprocess_input(frm)\n",
    "      frm = np.expand_dims(frm, axis=0)\n",
    "      #if np.max(frm)>1:\n",
    "      #  frm = frm/255.0\n",
    "      if channel_first:\n",
    "        frm = frm.transpose(0,3,1,2)\n",
    "      frames[i][:] = frm\n",
    "      i +=1\n",
    "      if i==(nbr_frame*30):\n",
    "          break\n",
    "  vc.release()\n",
    "  step = int(i/nbr_frame)\n",
    "  if (step>4):\n",
    "    step = random.randint(2, step)\n",
    "  start = int((i - step*nbr_frame)/2)\n",
    "  start += random.randint(0, int(start/2)+1 ) - int(start/2)\n",
    "  if (start<0):\n",
    "    start = 0\n",
    "  if (start + step*nbr_frame > i):\n",
    "    start = i - step*nbr_frame\n",
    "  resf = np.empty( (nbr_frame,) + input_shape )\n",
    "  k = 0\n",
    "  while k<nbr_frame:\n",
    "      j = int(step*k)\n",
    "      frm = frames[start+j]\n",
    "      resf[k][:] = frm\n",
    "      k = k+1\n",
    "  return resf\n"
   ],
   "outputs": [],
   "execution_count": 90
  },
  {
   "cell_type": "code",
   "metadata": {
    "id": "jl1S7nTkT6_w",
    "ExecuteTime": {
     "end_time": "2024-11-27T20:08:05.632638Z",
     "start_time": "2024-11-27T20:08:05.628294Z"
    }
   },
   "source": [
    "#cut_save('./testm/',\"test\")\n",
    "#plt.imshow(fights_test[19][5])\n",
    "#plt.show()"
   ],
   "outputs": [],
   "execution_count": 91
  },
  {
   "cell_type": "code",
   "metadata": {
    "id": "Pyu1zYVhW9Ue",
    "ExecuteTime": {
     "end_time": "2024-11-27T20:08:06.167235Z",
     "start_time": "2024-11-27T20:08:06.157377Z"
    }
   },
   "source": [
    "class AccuracyHistory(callbacks.Callback):\n",
    "    def on_train_begin(self, logs={}):\n",
    "        self.acc = []\n",
    "        self.val_acc = []\n",
    "        self.loss = []\n",
    "        self.val_loss = []\n",
    "\n",
    "    def on_epoch_end(self, batch, logs={}):\n",
    "        self.acc.append(logs.get('acc'))\n",
    "        self.val_acc.append(logs.get('val_acc'))\n",
    "        self.loss.append(logs.get('loss'))\n",
    "        self.val_loss.append(logs.get('val_loss'))\n",
    "\n",
    "history = AccuracyHistory()\n",
    "earlyStopping = callbacks.EarlyStopping(monitor='val_loss', patience=8,min_delta=1e-5, verbose=0, mode='min')\n",
    "mcp_save = callbacks.ModelCheckpoint('fights.keras', save_best_only=True, monitor='val_loss', mode='min')\n",
    "reduce_lr_loss = callbacks.ReduceLROnPlateau(monitor='val_loss',patience=10, verbose=2, factor=0.5,min_lr=0.0000001)\n"
   ],
   "outputs": [],
   "execution_count": 92
  },
  {
   "cell_type": "code",
   "metadata": {
    "id": "x_DHfpuv4eje",
    "ExecuteTime": {
     "end_time": "2024-11-27T20:08:06.367898Z",
     "start_time": "2024-11-27T20:08:06.354863Z"
    }
   },
   "source": [
    "maxSize = 10*1024*1024\n",
    "def loadData(dataset, ist, ito, fts_train, labs_train):\n",
    "  print('Loading ' + dataset +' from ' + str(ist) + ' to ' + str(ito) )\n",
    "  page_size = ito-ist\n",
    "  i= 0\n",
    "  for x in os.listdir('./' + dataset):\n",
    "    lx = x.lower()\n",
    "    violence = 1 if (lx.startswith('fight') or lx.startswith('viol')) else 0\n",
    "    td = dataset+'/'+x+'/'\n",
    "    notGood = 'fight' not in x.lower() and 'viol' not in x.lower()\n",
    "    if notGood or os.path.isdir(td)==False:\n",
    "      continue\n",
    "    n= 0\n",
    "    #print('-> folder ' +td)\n",
    "    nbrFiles = 0\n",
    "    for file in Path(td).rglob(\"*\"):\n",
    "      fl = os.path.join('', file)\n",
    "      #print('file ' + fl)\n",
    "      #print(os.path.getsize(fl))\n",
    "      if file.is_dir():\n",
    "        continue\n",
    "      if os.path.getsize(fl)>maxSize:\n",
    "        continue\n",
    "      nbrFiles += 1\n",
    "    #print('nbrFiles '+str(nbrFiles))\n",
    "    if ito > nbrFiles:\n",
    "      ito = nbrFiles\n",
    "      ist = nbrFiles-page_size\n",
    "      print( 'ist - ito ' + str(ist) + ' - ' + str(ito) )\n",
    "    for file in Path(td).rglob(\"*\"):\n",
    "      fl = os.path.join('', file)\n",
    "      if file.is_dir():\n",
    "        continue\n",
    "      if os.path.getsize(fl)>maxSize:\n",
    "        continue\n",
    "      #print('visiting ' + fl)\n",
    "      if n<ist:\n",
    "        n+=1\n",
    "        continue\n",
    "      if n>=ito:\n",
    "        break\n",
    "      videos = capture(fl)\n",
    "      fts_train[i][:][:] = videos\n",
    "      labs_train[i] = violence\n",
    "      i+=1\n",
    "      n+=1\n",
    "    ###### this part is not usefull anymore\n",
    "    print(\"Readed \"+str(i))\n",
    "    half= int(len(fts_train)/2)\n",
    "    if i<half:\n",
    "      while i<half:\n",
    "        print(\"Random repeat \"+str(i)+'/'+str(half))\n",
    "        p = np.random.randint(0, i-1)\n",
    "        fts_train[i][:][:] = fts_train[p]\n",
    "        labs_train[i] = labs_train[p]\n",
    "        i+=1\n",
    "    else:\n",
    "      if i>half:\n",
    "        while i<len(fts_train):\n",
    "          print(\"Random repeat \"+str(i)+'/'+str(half))\n",
    "          p = np.random.randint(half+1, len(fts_train)-1)\n",
    "          fts_train[i][:][:] = fts_train[p]\n",
    "          labs_train[i] = labs_train[p]\n",
    "          i+=1"
   ],
   "outputs": [],
   "execution_count": 93
  },
  {
   "cell_type": "code",
   "metadata": {
    "colab": {
     "base_uri": "https://localhost:8080/",
     "height": 373
    },
    "id": "4kKTIaCHT6_w",
    "outputId": "0851d4bc-b778-4bbe-f576-56032ffc73b1",
    "ExecuteTime": {
     "end_time": "2024-11-27T20:08:08.358259Z",
     "start_time": "2024-11-27T20:08:06.528732Z"
    }
   },
   "source": [
    "np.random.seed(1234)\n",
    "num_classes = 2\n",
    "base_model = tf.keras.applications.EfficientNetB0(\n",
    "    include_top=False,\n",
    "    weights='imagenet',\n",
    "    input_tensor=None,\n",
    "    input_shape = input_shape,\n",
    "    pooling=None,\n",
    "    classes = num_classes\n",
    ")\n",
    "base_model.trainable = False\n",
    "for layer in base_model.layers:\n",
    "    layer.trainable = False\n",
    "#base_model.summary()\n",
    "cnn = models.Sequential()\n",
    "cnn.add(base_model)\n",
    "cnn.add(layers.GlobalAveragePooling2D())\n",
    "def func(x):\n",
    "  return tf.cast(tf.math.logical_and(x < 0.1, x > -0.1), dtype=tf.float32);\n",
    "    #abs = tf.keras.backend.abs(abs, x) #will return boolean values\n",
    "    #greater = tf.keras.backend.greater(abs, 0.009)\n",
    "    #return tf.keras.backend.cast(greater, dtype=tf.keras.backend.floatx()) #will return boolean values\n",
    "thresholdLayer = tf.keras.layers.Lambda(func)\n",
    "def filters(x, i):\n",
    "  #zero = tf.keras.backend.constant(np.full((1, 340, 460, 3), 0 ), 'float32')\n",
    " # x = layers.subtract(inputs=[input, avg])\n",
    " # x = thresholdLayer(x)\n",
    " # x = layers.multiply(inputs=[x, input])\n",
    "  x = base_model(x)\n",
    " # k = tf.keras.backend.constant(np.full((1, 960), 1+(0.05*i) ), 'float32')\n",
    "  x = layers.GlobalAveragePooling2D()(x)\n",
    "  #x = layers.multiply(inputs=[x, k])\n",
    "  #print(x.shape)\n",
    "  return x\n",
    "if mono:\n",
    "   # inputLayer = layers.Input(shape=full_input_shape)\n",
    "    layer = models.Sequential()\n",
    "    layer.add(layers.TimeDistributed(cnn, input_shape=full_input_shape))\n",
    "    layer.add(layers.GRU(nbr_frame, return_sequences=True))\n",
    "    layer.add(layers.TimeDistributed(layers.Dense(nbr_frame, activation='relu')))\n",
    "    layer.add(layers.Flatten())\n",
    "  #  layer.add(layers.Dense(460, activation='sigmoid'))\n",
    "  #  layer.add(layers.Dropout(0.1))\n",
    "    layer.add(layers.Dense(420, activation='relu'))\n",
    "    layer.add(layers.Dropout(0.1))\n",
    "    layer.add(layers.Dense(120, activation='sigmoid'))\n",
    "    layer.add(layers.Dropout(0.1))\n",
    "    layer.add(layers.Dense(num_classes, activation=\"sigmoid\"))\n",
    "else:\n",
    "    inputs = []\n",
    "    fstLayers = []\n",
    "    for i in range(nbr_frame):\n",
    "      input = layers.Input(shape = input_shape, name = 'inp'+str(i+1))\n",
    "      inputs.append(input)\n",
    "      fstLayers.append(filters(input, 1))\n",
    "    layer = layers.concatenate(fstLayers)\n",
    "    layer = layers.Flatten()(layer)\n",
    "\n",
    "    layer = layers.Dense(120, activation='sigmoid')(layer)\n",
    "    layer = layers.Dropout(0.1)(layer)\n",
    "    layer = layers.Dense(64, activation='relu')(layer)\n",
    "    layer = layers.Dropout(0.1)(layer)\n",
    "    layer = layers.Dense(20, activation='sigmoid')(layer)\n",
    "    layer = layers.Dropout(0.1)(layer)\n",
    "    layer = layers.Dense(num_classes, activation=\"sigmoid\")(layer)\n",
    "    print(layer.shape)"
   ],
   "outputs": [
    {
     "name": "stdout",
     "output_type": "stream",
     "text": [
      "(None, 2)\n"
     ]
    }
   ],
   "execution_count": 94
  },
  {
   "cell_type": "code",
   "metadata": {
    "id": "skIx72LBb5t4",
    "ExecuteTime": {
     "end_time": "2024-11-27T20:08:08.558655Z",
     "start_time": "2024-11-27T20:08:08.552225Z"
    }
   },
   "source": [
    "if False:\n",
    "  v=filters(input2, 1)\n",
    "  m=models.Model([input1, input2, input3, input4,\n",
    "                          input5, input6,\n",
    "                          ], v)\n",
    "  m.compile(\n",
    "      loss=loss,\n",
    "      optimizer= adam,\n",
    "      metrics=metrics\n",
    "  )\n",
    "  #m.summary()\n",
    "  f = m.predict([_fights_train[0], _fights_train[1], _fights_train[2],\n",
    "            _fights_train[3], _fights_train[4], _fights_train[5]])\n",
    "  def fix(img):\n",
    "    return (img+1)*128\n",
    "  print(_fights_train[4].shape)\n",
    "  cv2_imshow(fix(f[4]))\n",
    "  cv2_imshow(fix(_fights_train[0][4]))\n",
    "  cv2_imshow(fix(_fights_train[1][4]))\n",
    "  cv2_imshow(fix(_fights_train[2][4]))\n",
    "  cv2_imshow(fix(_fights_train[3][4]))\n",
    "  cv2_imshow(fix(_fights_train[4][4]))\n",
    "  cv2_imshow(fix(_fights_train[5][4]))"
   ],
   "outputs": [],
   "execution_count": 95
  },
  {
   "cell_type": "code",
   "metadata": {
    "id": "IB3ym7VNGkQz",
    "ExecuteTime": {
     "end_time": "2024-11-27T20:08:08.838449Z",
     "start_time": "2024-11-27T20:08:08.763059Z"
    }
   },
   "source": [
    "adam = optimizers.Adam(beta_1=0.9, beta_2=0.999, epsilon=1e-08)\n",
    "rms = optimizers.RMSprop()\n",
    "metrics = [tf.keras.metrics.CategoricalAccuracy('accuracy', dtype=tf.float32)]\n",
    "loss = tf.keras.losses.CategoricalCrossentropy()\n",
    "\n",
    "if mono:\n",
    "  model = layer\n",
    "else:\n",
    "  model = models.Model(inputs, layer)\n",
    "#model = models.Model([input1], layer)\n",
    "model.compile(\n",
    "    loss=loss,\n",
    "    optimizer= adam,\n",
    "    metrics=metrics\n",
    ")\n",
    "model.summary()"
   ],
   "outputs": [
    {
     "data": {
      "text/plain": [
       "\u001B[1mModel: \"functional_5\"\u001B[0m\n"
      ],
      "text/html": [
       "<pre style=\"white-space:pre;overflow-x:auto;line-height:normal;font-family:Menlo,'DejaVu Sans Mono',consolas,'Courier New',monospace\"><span style=\"font-weight: bold\">Model: \"functional_5\"</span>\n",
       "</pre>\n"
      ]
     },
     "metadata": {},
     "output_type": "display_data"
    },
    {
     "data": {
      "text/plain": [
       "┏━━━━━━━━━━━━━━━━━━━━━┳━━━━━━━━━━━━━━━━━━━┳━━━━━━━━━━━━┳━━━━━━━━━━━━━━━━━━━┓\n",
       "┃\u001B[1m \u001B[0m\u001B[1mLayer (type)       \u001B[0m\u001B[1m \u001B[0m┃\u001B[1m \u001B[0m\u001B[1mOutput Shape     \u001B[0m\u001B[1m \u001B[0m┃\u001B[1m \u001B[0m\u001B[1m   Param #\u001B[0m\u001B[1m \u001B[0m┃\u001B[1m \u001B[0m\u001B[1mConnected to     \u001B[0m\u001B[1m \u001B[0m┃\n",
       "┡━━━━━━━━━━━━━━━━━━━━━╇━━━━━━━━━━━━━━━━━━━╇━━━━━━━━━━━━╇━━━━━━━━━━━━━━━━━━━┩\n",
       "│ inp1 (\u001B[38;5;33mInputLayer\u001B[0m)   │ (\u001B[38;5;45mNone\u001B[0m, \u001B[38;5;34m300\u001B[0m, \u001B[38;5;34m420\u001B[0m,  │          \u001B[38;5;34m0\u001B[0m │ -                 │\n",
       "│                     │ \u001B[38;5;34m3\u001B[0m)                │            │                   │\n",
       "├─────────────────────┼───────────────────┼────────────┼───────────────────┤\n",
       "│ inp2 (\u001B[38;5;33mInputLayer\u001B[0m)   │ (\u001B[38;5;45mNone\u001B[0m, \u001B[38;5;34m300\u001B[0m, \u001B[38;5;34m420\u001B[0m,  │          \u001B[38;5;34m0\u001B[0m │ -                 │\n",
       "│                     │ \u001B[38;5;34m3\u001B[0m)                │            │                   │\n",
       "├─────────────────────┼───────────────────┼────────────┼───────────────────┤\n",
       "│ inp3 (\u001B[38;5;33mInputLayer\u001B[0m)   │ (\u001B[38;5;45mNone\u001B[0m, \u001B[38;5;34m300\u001B[0m, \u001B[38;5;34m420\u001B[0m,  │          \u001B[38;5;34m0\u001B[0m │ -                 │\n",
       "│                     │ \u001B[38;5;34m3\u001B[0m)                │            │                   │\n",
       "├─────────────────────┼───────────────────┼────────────┼───────────────────┤\n",
       "│ inp4 (\u001B[38;5;33mInputLayer\u001B[0m)   │ (\u001B[38;5;45mNone\u001B[0m, \u001B[38;5;34m300\u001B[0m, \u001B[38;5;34m420\u001B[0m,  │          \u001B[38;5;34m0\u001B[0m │ -                 │\n",
       "│                     │ \u001B[38;5;34m3\u001B[0m)                │            │                   │\n",
       "├─────────────────────┼───────────────────┼────────────┼───────────────────┤\n",
       "│ inp5 (\u001B[38;5;33mInputLayer\u001B[0m)   │ (\u001B[38;5;45mNone\u001B[0m, \u001B[38;5;34m300\u001B[0m, \u001B[38;5;34m420\u001B[0m,  │          \u001B[38;5;34m0\u001B[0m │ -                 │\n",
       "│                     │ \u001B[38;5;34m3\u001B[0m)                │            │                   │\n",
       "├─────────────────────┼───────────────────┼────────────┼───────────────────┤\n",
       "│ inp6 (\u001B[38;5;33mInputLayer\u001B[0m)   │ (\u001B[38;5;45mNone\u001B[0m, \u001B[38;5;34m300\u001B[0m, \u001B[38;5;34m420\u001B[0m,  │          \u001B[38;5;34m0\u001B[0m │ -                 │\n",
       "│                     │ \u001B[38;5;34m3\u001B[0m)                │            │                   │\n",
       "├─────────────────────┼───────────────────┼────────────┼───────────────────┤\n",
       "│ inp7 (\u001B[38;5;33mInputLayer\u001B[0m)   │ (\u001B[38;5;45mNone\u001B[0m, \u001B[38;5;34m300\u001B[0m, \u001B[38;5;34m420\u001B[0m,  │          \u001B[38;5;34m0\u001B[0m │ -                 │\n",
       "│                     │ \u001B[38;5;34m3\u001B[0m)                │            │                   │\n",
       "├─────────────────────┼───────────────────┼────────────┼───────────────────┤\n",
       "│ inp8 (\u001B[38;5;33mInputLayer\u001B[0m)   │ (\u001B[38;5;45mNone\u001B[0m, \u001B[38;5;34m300\u001B[0m, \u001B[38;5;34m420\u001B[0m,  │          \u001B[38;5;34m0\u001B[0m │ -                 │\n",
       "│                     │ \u001B[38;5;34m3\u001B[0m)                │            │                   │\n",
       "├─────────────────────┼───────────────────┼────────────┼───────────────────┤\n",
       "│ efficientnetb0      │ (\u001B[38;5;45mNone\u001B[0m, \u001B[38;5;34m10\u001B[0m, \u001B[38;5;34m14\u001B[0m,    │  \u001B[38;5;34m4,049,571\u001B[0m │ inp1[\u001B[38;5;34m0\u001B[0m][\u001B[38;5;34m0\u001B[0m],       │\n",
       "│ (\u001B[38;5;33mFunctional\u001B[0m)        │ \u001B[38;5;34m1280\u001B[0m)             │            │ inp2[\u001B[38;5;34m0\u001B[0m][\u001B[38;5;34m0\u001B[0m],       │\n",
       "│                     │                   │            │ inp3[\u001B[38;5;34m0\u001B[0m][\u001B[38;5;34m0\u001B[0m],       │\n",
       "│                     │                   │            │ inp4[\u001B[38;5;34m0\u001B[0m][\u001B[38;5;34m0\u001B[0m],       │\n",
       "│                     │                   │            │ inp5[\u001B[38;5;34m0\u001B[0m][\u001B[38;5;34m0\u001B[0m],       │\n",
       "│                     │                   │            │ inp6[\u001B[38;5;34m0\u001B[0m][\u001B[38;5;34m0\u001B[0m],       │\n",
       "│                     │                   │            │ inp7[\u001B[38;5;34m0\u001B[0m][\u001B[38;5;34m0\u001B[0m],       │\n",
       "│                     │                   │            │ inp8[\u001B[38;5;34m0\u001B[0m][\u001B[38;5;34m0\u001B[0m]        │\n",
       "├─────────────────────┼───────────────────┼────────────┼───────────────────┤\n",
       "│ global_average_poo… │ (\u001B[38;5;45mNone\u001B[0m, \u001B[38;5;34m1280\u001B[0m)      │          \u001B[38;5;34m0\u001B[0m │ efficientnetb0[\u001B[38;5;34m1\u001B[0m… │\n",
       "│ (\u001B[38;5;33mGlobalAveragePool…\u001B[0m │                   │            │                   │\n",
       "├─────────────────────┼───────────────────┼────────────┼───────────────────┤\n",
       "│ global_average_poo… │ (\u001B[38;5;45mNone\u001B[0m, \u001B[38;5;34m1280\u001B[0m)      │          \u001B[38;5;34m0\u001B[0m │ efficientnetb0[\u001B[38;5;34m2\u001B[0m… │\n",
       "│ (\u001B[38;5;33mGlobalAveragePool…\u001B[0m │                   │            │                   │\n",
       "├─────────────────────┼───────────────────┼────────────┼───────────────────┤\n",
       "│ global_average_poo… │ (\u001B[38;5;45mNone\u001B[0m, \u001B[38;5;34m1280\u001B[0m)      │          \u001B[38;5;34m0\u001B[0m │ efficientnetb0[\u001B[38;5;34m3\u001B[0m… │\n",
       "│ (\u001B[38;5;33mGlobalAveragePool…\u001B[0m │                   │            │                   │\n",
       "├─────────────────────┼───────────────────┼────────────┼───────────────────┤\n",
       "│ global_average_poo… │ (\u001B[38;5;45mNone\u001B[0m, \u001B[38;5;34m1280\u001B[0m)      │          \u001B[38;5;34m0\u001B[0m │ efficientnetb0[\u001B[38;5;34m4\u001B[0m… │\n",
       "│ (\u001B[38;5;33mGlobalAveragePool…\u001B[0m │                   │            │                   │\n",
       "├─────────────────────┼───────────────────┼────────────┼───────────────────┤\n",
       "│ global_average_poo… │ (\u001B[38;5;45mNone\u001B[0m, \u001B[38;5;34m1280\u001B[0m)      │          \u001B[38;5;34m0\u001B[0m │ efficientnetb0[\u001B[38;5;34m5\u001B[0m… │\n",
       "│ (\u001B[38;5;33mGlobalAveragePool…\u001B[0m │                   │            │                   │\n",
       "├─────────────────────┼───────────────────┼────────────┼───────────────────┤\n",
       "│ global_average_poo… │ (\u001B[38;5;45mNone\u001B[0m, \u001B[38;5;34m1280\u001B[0m)      │          \u001B[38;5;34m0\u001B[0m │ efficientnetb0[\u001B[38;5;34m6\u001B[0m… │\n",
       "│ (\u001B[38;5;33mGlobalAveragePool…\u001B[0m │                   │            │                   │\n",
       "├─────────────────────┼───────────────────┼────────────┼───────────────────┤\n",
       "│ global_average_poo… │ (\u001B[38;5;45mNone\u001B[0m, \u001B[38;5;34m1280\u001B[0m)      │          \u001B[38;5;34m0\u001B[0m │ efficientnetb0[\u001B[38;5;34m7\u001B[0m… │\n",
       "│ (\u001B[38;5;33mGlobalAveragePool…\u001B[0m │                   │            │                   │\n",
       "├─────────────────────┼───────────────────┼────────────┼───────────────────┤\n",
       "│ global_average_poo… │ (\u001B[38;5;45mNone\u001B[0m, \u001B[38;5;34m1280\u001B[0m)      │          \u001B[38;5;34m0\u001B[0m │ efficientnetb0[\u001B[38;5;34m8\u001B[0m… │\n",
       "│ (\u001B[38;5;33mGlobalAveragePool…\u001B[0m │                   │            │                   │\n",
       "├─────────────────────┼───────────────────┼────────────┼───────────────────┤\n",
       "│ concatenate_2       │ (\u001B[38;5;45mNone\u001B[0m, \u001B[38;5;34m10240\u001B[0m)     │          \u001B[38;5;34m0\u001B[0m │ global_average_p… │\n",
       "│ (\u001B[38;5;33mConcatenate\u001B[0m)       │                   │            │ global_average_p… │\n",
       "│                     │                   │            │ global_average_p… │\n",
       "│                     │                   │            │ global_average_p… │\n",
       "│                     │                   │            │ global_average_p… │\n",
       "│                     │                   │            │ global_average_p… │\n",
       "│                     │                   │            │ global_average_p… │\n",
       "│                     │                   │            │ global_average_p… │\n",
       "├─────────────────────┼───────────────────┼────────────┼───────────────────┤\n",
       "│ flatten_2 (\u001B[38;5;33mFlatten\u001B[0m) │ (\u001B[38;5;45mNone\u001B[0m, \u001B[38;5;34m10240\u001B[0m)     │          \u001B[38;5;34m0\u001B[0m │ concatenate_2[\u001B[38;5;34m0\u001B[0m]… │\n",
       "├─────────────────────┼───────────────────┼────────────┼───────────────────┤\n",
       "│ dense_8 (\u001B[38;5;33mDense\u001B[0m)     │ (\u001B[38;5;45mNone\u001B[0m, \u001B[38;5;34m120\u001B[0m)       │  \u001B[38;5;34m1,228,920\u001B[0m │ flatten_2[\u001B[38;5;34m0\u001B[0m][\u001B[38;5;34m0\u001B[0m]   │\n",
       "├─────────────────────┼───────────────────┼────────────┼───────────────────┤\n",
       "│ dropout_6 (\u001B[38;5;33mDropout\u001B[0m) │ (\u001B[38;5;45mNone\u001B[0m, \u001B[38;5;34m120\u001B[0m)       │          \u001B[38;5;34m0\u001B[0m │ dense_8[\u001B[38;5;34m0\u001B[0m][\u001B[38;5;34m0\u001B[0m]     │\n",
       "├─────────────────────┼───────────────────┼────────────┼───────────────────┤\n",
       "│ dense_9 (\u001B[38;5;33mDense\u001B[0m)     │ (\u001B[38;5;45mNone\u001B[0m, \u001B[38;5;34m64\u001B[0m)        │      \u001B[38;5;34m7,744\u001B[0m │ dropout_6[\u001B[38;5;34m0\u001B[0m][\u001B[38;5;34m0\u001B[0m]   │\n",
       "├─────────────────────┼───────────────────┼────────────┼───────────────────┤\n",
       "│ dropout_7 (\u001B[38;5;33mDropout\u001B[0m) │ (\u001B[38;5;45mNone\u001B[0m, \u001B[38;5;34m64\u001B[0m)        │          \u001B[38;5;34m0\u001B[0m │ dense_9[\u001B[38;5;34m0\u001B[0m][\u001B[38;5;34m0\u001B[0m]     │\n",
       "├─────────────────────┼───────────────────┼────────────┼───────────────────┤\n",
       "│ dense_10 (\u001B[38;5;33mDense\u001B[0m)    │ (\u001B[38;5;45mNone\u001B[0m, \u001B[38;5;34m20\u001B[0m)        │      \u001B[38;5;34m1,300\u001B[0m │ dropout_7[\u001B[38;5;34m0\u001B[0m][\u001B[38;5;34m0\u001B[0m]   │\n",
       "├─────────────────────┼───────────────────┼────────────┼───────────────────┤\n",
       "│ dropout_8 (\u001B[38;5;33mDropout\u001B[0m) │ (\u001B[38;5;45mNone\u001B[0m, \u001B[38;5;34m20\u001B[0m)        │          \u001B[38;5;34m0\u001B[0m │ dense_10[\u001B[38;5;34m0\u001B[0m][\u001B[38;5;34m0\u001B[0m]    │\n",
       "├─────────────────────┼───────────────────┼────────────┼───────────────────┤\n",
       "│ dense_11 (\u001B[38;5;33mDense\u001B[0m)    │ (\u001B[38;5;45mNone\u001B[0m, \u001B[38;5;34m2\u001B[0m)         │         \u001B[38;5;34m42\u001B[0m │ dropout_8[\u001B[38;5;34m0\u001B[0m][\u001B[38;5;34m0\u001B[0m]   │\n",
       "└─────────────────────┴───────────────────┴────────────┴───────────────────┘\n"
      ],
      "text/html": [
       "<pre style=\"white-space:pre;overflow-x:auto;line-height:normal;font-family:Menlo,'DejaVu Sans Mono',consolas,'Courier New',monospace\">┏━━━━━━━━━━━━━━━━━━━━━┳━━━━━━━━━━━━━━━━━━━┳━━━━━━━━━━━━┳━━━━━━━━━━━━━━━━━━━┓\n",
       "┃<span style=\"font-weight: bold\"> Layer (type)        </span>┃<span style=\"font-weight: bold\"> Output Shape      </span>┃<span style=\"font-weight: bold\">    Param # </span>┃<span style=\"font-weight: bold\"> Connected to      </span>┃\n",
       "┡━━━━━━━━━━━━━━━━━━━━━╇━━━━━━━━━━━━━━━━━━━╇━━━━━━━━━━━━╇━━━━━━━━━━━━━━━━━━━┩\n",
       "│ inp1 (<span style=\"color: #0087ff; text-decoration-color: #0087ff\">InputLayer</span>)   │ (<span style=\"color: #00d7ff; text-decoration-color: #00d7ff\">None</span>, <span style=\"color: #00af00; text-decoration-color: #00af00\">300</span>, <span style=\"color: #00af00; text-decoration-color: #00af00\">420</span>,  │          <span style=\"color: #00af00; text-decoration-color: #00af00\">0</span> │ -                 │\n",
       "│                     │ <span style=\"color: #00af00; text-decoration-color: #00af00\">3</span>)                │            │                   │\n",
       "├─────────────────────┼───────────────────┼────────────┼───────────────────┤\n",
       "│ inp2 (<span style=\"color: #0087ff; text-decoration-color: #0087ff\">InputLayer</span>)   │ (<span style=\"color: #00d7ff; text-decoration-color: #00d7ff\">None</span>, <span style=\"color: #00af00; text-decoration-color: #00af00\">300</span>, <span style=\"color: #00af00; text-decoration-color: #00af00\">420</span>,  │          <span style=\"color: #00af00; text-decoration-color: #00af00\">0</span> │ -                 │\n",
       "│                     │ <span style=\"color: #00af00; text-decoration-color: #00af00\">3</span>)                │            │                   │\n",
       "├─────────────────────┼───────────────────┼────────────┼───────────────────┤\n",
       "│ inp3 (<span style=\"color: #0087ff; text-decoration-color: #0087ff\">InputLayer</span>)   │ (<span style=\"color: #00d7ff; text-decoration-color: #00d7ff\">None</span>, <span style=\"color: #00af00; text-decoration-color: #00af00\">300</span>, <span style=\"color: #00af00; text-decoration-color: #00af00\">420</span>,  │          <span style=\"color: #00af00; text-decoration-color: #00af00\">0</span> │ -                 │\n",
       "│                     │ <span style=\"color: #00af00; text-decoration-color: #00af00\">3</span>)                │            │                   │\n",
       "├─────────────────────┼───────────────────┼────────────┼───────────────────┤\n",
       "│ inp4 (<span style=\"color: #0087ff; text-decoration-color: #0087ff\">InputLayer</span>)   │ (<span style=\"color: #00d7ff; text-decoration-color: #00d7ff\">None</span>, <span style=\"color: #00af00; text-decoration-color: #00af00\">300</span>, <span style=\"color: #00af00; text-decoration-color: #00af00\">420</span>,  │          <span style=\"color: #00af00; text-decoration-color: #00af00\">0</span> │ -                 │\n",
       "│                     │ <span style=\"color: #00af00; text-decoration-color: #00af00\">3</span>)                │            │                   │\n",
       "├─────────────────────┼───────────────────┼────────────┼───────────────────┤\n",
       "│ inp5 (<span style=\"color: #0087ff; text-decoration-color: #0087ff\">InputLayer</span>)   │ (<span style=\"color: #00d7ff; text-decoration-color: #00d7ff\">None</span>, <span style=\"color: #00af00; text-decoration-color: #00af00\">300</span>, <span style=\"color: #00af00; text-decoration-color: #00af00\">420</span>,  │          <span style=\"color: #00af00; text-decoration-color: #00af00\">0</span> │ -                 │\n",
       "│                     │ <span style=\"color: #00af00; text-decoration-color: #00af00\">3</span>)                │            │                   │\n",
       "├─────────────────────┼───────────────────┼────────────┼───────────────────┤\n",
       "│ inp6 (<span style=\"color: #0087ff; text-decoration-color: #0087ff\">InputLayer</span>)   │ (<span style=\"color: #00d7ff; text-decoration-color: #00d7ff\">None</span>, <span style=\"color: #00af00; text-decoration-color: #00af00\">300</span>, <span style=\"color: #00af00; text-decoration-color: #00af00\">420</span>,  │          <span style=\"color: #00af00; text-decoration-color: #00af00\">0</span> │ -                 │\n",
       "│                     │ <span style=\"color: #00af00; text-decoration-color: #00af00\">3</span>)                │            │                   │\n",
       "├─────────────────────┼───────────────────┼────────────┼───────────────────┤\n",
       "│ inp7 (<span style=\"color: #0087ff; text-decoration-color: #0087ff\">InputLayer</span>)   │ (<span style=\"color: #00d7ff; text-decoration-color: #00d7ff\">None</span>, <span style=\"color: #00af00; text-decoration-color: #00af00\">300</span>, <span style=\"color: #00af00; text-decoration-color: #00af00\">420</span>,  │          <span style=\"color: #00af00; text-decoration-color: #00af00\">0</span> │ -                 │\n",
       "│                     │ <span style=\"color: #00af00; text-decoration-color: #00af00\">3</span>)                │            │                   │\n",
       "├─────────────────────┼───────────────────┼────────────┼───────────────────┤\n",
       "│ inp8 (<span style=\"color: #0087ff; text-decoration-color: #0087ff\">InputLayer</span>)   │ (<span style=\"color: #00d7ff; text-decoration-color: #00d7ff\">None</span>, <span style=\"color: #00af00; text-decoration-color: #00af00\">300</span>, <span style=\"color: #00af00; text-decoration-color: #00af00\">420</span>,  │          <span style=\"color: #00af00; text-decoration-color: #00af00\">0</span> │ -                 │\n",
       "│                     │ <span style=\"color: #00af00; text-decoration-color: #00af00\">3</span>)                │            │                   │\n",
       "├─────────────────────┼───────────────────┼────────────┼───────────────────┤\n",
       "│ efficientnetb0      │ (<span style=\"color: #00d7ff; text-decoration-color: #00d7ff\">None</span>, <span style=\"color: #00af00; text-decoration-color: #00af00\">10</span>, <span style=\"color: #00af00; text-decoration-color: #00af00\">14</span>,    │  <span style=\"color: #00af00; text-decoration-color: #00af00\">4,049,571</span> │ inp1[<span style=\"color: #00af00; text-decoration-color: #00af00\">0</span>][<span style=\"color: #00af00; text-decoration-color: #00af00\">0</span>],       │\n",
       "│ (<span style=\"color: #0087ff; text-decoration-color: #0087ff\">Functional</span>)        │ <span style=\"color: #00af00; text-decoration-color: #00af00\">1280</span>)             │            │ inp2[<span style=\"color: #00af00; text-decoration-color: #00af00\">0</span>][<span style=\"color: #00af00; text-decoration-color: #00af00\">0</span>],       │\n",
       "│                     │                   │            │ inp3[<span style=\"color: #00af00; text-decoration-color: #00af00\">0</span>][<span style=\"color: #00af00; text-decoration-color: #00af00\">0</span>],       │\n",
       "│                     │                   │            │ inp4[<span style=\"color: #00af00; text-decoration-color: #00af00\">0</span>][<span style=\"color: #00af00; text-decoration-color: #00af00\">0</span>],       │\n",
       "│                     │                   │            │ inp5[<span style=\"color: #00af00; text-decoration-color: #00af00\">0</span>][<span style=\"color: #00af00; text-decoration-color: #00af00\">0</span>],       │\n",
       "│                     │                   │            │ inp6[<span style=\"color: #00af00; text-decoration-color: #00af00\">0</span>][<span style=\"color: #00af00; text-decoration-color: #00af00\">0</span>],       │\n",
       "│                     │                   │            │ inp7[<span style=\"color: #00af00; text-decoration-color: #00af00\">0</span>][<span style=\"color: #00af00; text-decoration-color: #00af00\">0</span>],       │\n",
       "│                     │                   │            │ inp8[<span style=\"color: #00af00; text-decoration-color: #00af00\">0</span>][<span style=\"color: #00af00; text-decoration-color: #00af00\">0</span>]        │\n",
       "├─────────────────────┼───────────────────┼────────────┼───────────────────┤\n",
       "│ global_average_poo… │ (<span style=\"color: #00d7ff; text-decoration-color: #00d7ff\">None</span>, <span style=\"color: #00af00; text-decoration-color: #00af00\">1280</span>)      │          <span style=\"color: #00af00; text-decoration-color: #00af00\">0</span> │ efficientnetb0[<span style=\"color: #00af00; text-decoration-color: #00af00\">1</span>… │\n",
       "│ (<span style=\"color: #0087ff; text-decoration-color: #0087ff\">GlobalAveragePool…</span> │                   │            │                   │\n",
       "├─────────────────────┼───────────────────┼────────────┼───────────────────┤\n",
       "│ global_average_poo… │ (<span style=\"color: #00d7ff; text-decoration-color: #00d7ff\">None</span>, <span style=\"color: #00af00; text-decoration-color: #00af00\">1280</span>)      │          <span style=\"color: #00af00; text-decoration-color: #00af00\">0</span> │ efficientnetb0[<span style=\"color: #00af00; text-decoration-color: #00af00\">2</span>… │\n",
       "│ (<span style=\"color: #0087ff; text-decoration-color: #0087ff\">GlobalAveragePool…</span> │                   │            │                   │\n",
       "├─────────────────────┼───────────────────┼────────────┼───────────────────┤\n",
       "│ global_average_poo… │ (<span style=\"color: #00d7ff; text-decoration-color: #00d7ff\">None</span>, <span style=\"color: #00af00; text-decoration-color: #00af00\">1280</span>)      │          <span style=\"color: #00af00; text-decoration-color: #00af00\">0</span> │ efficientnetb0[<span style=\"color: #00af00; text-decoration-color: #00af00\">3</span>… │\n",
       "│ (<span style=\"color: #0087ff; text-decoration-color: #0087ff\">GlobalAveragePool…</span> │                   │            │                   │\n",
       "├─────────────────────┼───────────────────┼────────────┼───────────────────┤\n",
       "│ global_average_poo… │ (<span style=\"color: #00d7ff; text-decoration-color: #00d7ff\">None</span>, <span style=\"color: #00af00; text-decoration-color: #00af00\">1280</span>)      │          <span style=\"color: #00af00; text-decoration-color: #00af00\">0</span> │ efficientnetb0[<span style=\"color: #00af00; text-decoration-color: #00af00\">4</span>… │\n",
       "│ (<span style=\"color: #0087ff; text-decoration-color: #0087ff\">GlobalAveragePool…</span> │                   │            │                   │\n",
       "├─────────────────────┼───────────────────┼────────────┼───────────────────┤\n",
       "│ global_average_poo… │ (<span style=\"color: #00d7ff; text-decoration-color: #00d7ff\">None</span>, <span style=\"color: #00af00; text-decoration-color: #00af00\">1280</span>)      │          <span style=\"color: #00af00; text-decoration-color: #00af00\">0</span> │ efficientnetb0[<span style=\"color: #00af00; text-decoration-color: #00af00\">5</span>… │\n",
       "│ (<span style=\"color: #0087ff; text-decoration-color: #0087ff\">GlobalAveragePool…</span> │                   │            │                   │\n",
       "├─────────────────────┼───────────────────┼────────────┼───────────────────┤\n",
       "│ global_average_poo… │ (<span style=\"color: #00d7ff; text-decoration-color: #00d7ff\">None</span>, <span style=\"color: #00af00; text-decoration-color: #00af00\">1280</span>)      │          <span style=\"color: #00af00; text-decoration-color: #00af00\">0</span> │ efficientnetb0[<span style=\"color: #00af00; text-decoration-color: #00af00\">6</span>… │\n",
       "│ (<span style=\"color: #0087ff; text-decoration-color: #0087ff\">GlobalAveragePool…</span> │                   │            │                   │\n",
       "├─────────────────────┼───────────────────┼────────────┼───────────────────┤\n",
       "│ global_average_poo… │ (<span style=\"color: #00d7ff; text-decoration-color: #00d7ff\">None</span>, <span style=\"color: #00af00; text-decoration-color: #00af00\">1280</span>)      │          <span style=\"color: #00af00; text-decoration-color: #00af00\">0</span> │ efficientnetb0[<span style=\"color: #00af00; text-decoration-color: #00af00\">7</span>… │\n",
       "│ (<span style=\"color: #0087ff; text-decoration-color: #0087ff\">GlobalAveragePool…</span> │                   │            │                   │\n",
       "├─────────────────────┼───────────────────┼────────────┼───────────────────┤\n",
       "│ global_average_poo… │ (<span style=\"color: #00d7ff; text-decoration-color: #00d7ff\">None</span>, <span style=\"color: #00af00; text-decoration-color: #00af00\">1280</span>)      │          <span style=\"color: #00af00; text-decoration-color: #00af00\">0</span> │ efficientnetb0[<span style=\"color: #00af00; text-decoration-color: #00af00\">8</span>… │\n",
       "│ (<span style=\"color: #0087ff; text-decoration-color: #0087ff\">GlobalAveragePool…</span> │                   │            │                   │\n",
       "├─────────────────────┼───────────────────┼────────────┼───────────────────┤\n",
       "│ concatenate_2       │ (<span style=\"color: #00d7ff; text-decoration-color: #00d7ff\">None</span>, <span style=\"color: #00af00; text-decoration-color: #00af00\">10240</span>)     │          <span style=\"color: #00af00; text-decoration-color: #00af00\">0</span> │ global_average_p… │\n",
       "│ (<span style=\"color: #0087ff; text-decoration-color: #0087ff\">Concatenate</span>)       │                   │            │ global_average_p… │\n",
       "│                     │                   │            │ global_average_p… │\n",
       "│                     │                   │            │ global_average_p… │\n",
       "│                     │                   │            │ global_average_p… │\n",
       "│                     │                   │            │ global_average_p… │\n",
       "│                     │                   │            │ global_average_p… │\n",
       "│                     │                   │            │ global_average_p… │\n",
       "├─────────────────────┼───────────────────┼────────────┼───────────────────┤\n",
       "│ flatten_2 (<span style=\"color: #0087ff; text-decoration-color: #0087ff\">Flatten</span>) │ (<span style=\"color: #00d7ff; text-decoration-color: #00d7ff\">None</span>, <span style=\"color: #00af00; text-decoration-color: #00af00\">10240</span>)     │          <span style=\"color: #00af00; text-decoration-color: #00af00\">0</span> │ concatenate_2[<span style=\"color: #00af00; text-decoration-color: #00af00\">0</span>]… │\n",
       "├─────────────────────┼───────────────────┼────────────┼───────────────────┤\n",
       "│ dense_8 (<span style=\"color: #0087ff; text-decoration-color: #0087ff\">Dense</span>)     │ (<span style=\"color: #00d7ff; text-decoration-color: #00d7ff\">None</span>, <span style=\"color: #00af00; text-decoration-color: #00af00\">120</span>)       │  <span style=\"color: #00af00; text-decoration-color: #00af00\">1,228,920</span> │ flatten_2[<span style=\"color: #00af00; text-decoration-color: #00af00\">0</span>][<span style=\"color: #00af00; text-decoration-color: #00af00\">0</span>]   │\n",
       "├─────────────────────┼───────────────────┼────────────┼───────────────────┤\n",
       "│ dropout_6 (<span style=\"color: #0087ff; text-decoration-color: #0087ff\">Dropout</span>) │ (<span style=\"color: #00d7ff; text-decoration-color: #00d7ff\">None</span>, <span style=\"color: #00af00; text-decoration-color: #00af00\">120</span>)       │          <span style=\"color: #00af00; text-decoration-color: #00af00\">0</span> │ dense_8[<span style=\"color: #00af00; text-decoration-color: #00af00\">0</span>][<span style=\"color: #00af00; text-decoration-color: #00af00\">0</span>]     │\n",
       "├─────────────────────┼───────────────────┼────────────┼───────────────────┤\n",
       "│ dense_9 (<span style=\"color: #0087ff; text-decoration-color: #0087ff\">Dense</span>)     │ (<span style=\"color: #00d7ff; text-decoration-color: #00d7ff\">None</span>, <span style=\"color: #00af00; text-decoration-color: #00af00\">64</span>)        │      <span style=\"color: #00af00; text-decoration-color: #00af00\">7,744</span> │ dropout_6[<span style=\"color: #00af00; text-decoration-color: #00af00\">0</span>][<span style=\"color: #00af00; text-decoration-color: #00af00\">0</span>]   │\n",
       "├─────────────────────┼───────────────────┼────────────┼───────────────────┤\n",
       "│ dropout_7 (<span style=\"color: #0087ff; text-decoration-color: #0087ff\">Dropout</span>) │ (<span style=\"color: #00d7ff; text-decoration-color: #00d7ff\">None</span>, <span style=\"color: #00af00; text-decoration-color: #00af00\">64</span>)        │          <span style=\"color: #00af00; text-decoration-color: #00af00\">0</span> │ dense_9[<span style=\"color: #00af00; text-decoration-color: #00af00\">0</span>][<span style=\"color: #00af00; text-decoration-color: #00af00\">0</span>]     │\n",
       "├─────────────────────┼───────────────────┼────────────┼───────────────────┤\n",
       "│ dense_10 (<span style=\"color: #0087ff; text-decoration-color: #0087ff\">Dense</span>)    │ (<span style=\"color: #00d7ff; text-decoration-color: #00d7ff\">None</span>, <span style=\"color: #00af00; text-decoration-color: #00af00\">20</span>)        │      <span style=\"color: #00af00; text-decoration-color: #00af00\">1,300</span> │ dropout_7[<span style=\"color: #00af00; text-decoration-color: #00af00\">0</span>][<span style=\"color: #00af00; text-decoration-color: #00af00\">0</span>]   │\n",
       "├─────────────────────┼───────────────────┼────────────┼───────────────────┤\n",
       "│ dropout_8 (<span style=\"color: #0087ff; text-decoration-color: #0087ff\">Dropout</span>) │ (<span style=\"color: #00d7ff; text-decoration-color: #00d7ff\">None</span>, <span style=\"color: #00af00; text-decoration-color: #00af00\">20</span>)        │          <span style=\"color: #00af00; text-decoration-color: #00af00\">0</span> │ dense_10[<span style=\"color: #00af00; text-decoration-color: #00af00\">0</span>][<span style=\"color: #00af00; text-decoration-color: #00af00\">0</span>]    │\n",
       "├─────────────────────┼───────────────────┼────────────┼───────────────────┤\n",
       "│ dense_11 (<span style=\"color: #0087ff; text-decoration-color: #0087ff\">Dense</span>)    │ (<span style=\"color: #00d7ff; text-decoration-color: #00d7ff\">None</span>, <span style=\"color: #00af00; text-decoration-color: #00af00\">2</span>)         │         <span style=\"color: #00af00; text-decoration-color: #00af00\">42</span> │ dropout_8[<span style=\"color: #00af00; text-decoration-color: #00af00\">0</span>][<span style=\"color: #00af00; text-decoration-color: #00af00\">0</span>]   │\n",
       "└─────────────────────┴───────────────────┴────────────┴───────────────────┘\n",
       "</pre>\n"
      ]
     },
     "metadata": {},
     "output_type": "display_data"
    },
    {
     "data": {
      "text/plain": [
       "\u001B[1m Total params: \u001B[0m\u001B[38;5;34m5,287,577\u001B[0m (20.17 MB)\n"
      ],
      "text/html": [
       "<pre style=\"white-space:pre;overflow-x:auto;line-height:normal;font-family:Menlo,'DejaVu Sans Mono',consolas,'Courier New',monospace\"><span style=\"font-weight: bold\"> Total params: </span><span style=\"color: #00af00; text-decoration-color: #00af00\">5,287,577</span> (20.17 MB)\n",
       "</pre>\n"
      ]
     },
     "metadata": {},
     "output_type": "display_data"
    },
    {
     "data": {
      "text/plain": [
       "\u001B[1m Trainable params: \u001B[0m\u001B[38;5;34m1,238,006\u001B[0m (4.72 MB)\n"
      ],
      "text/html": [
       "<pre style=\"white-space:pre;overflow-x:auto;line-height:normal;font-family:Menlo,'DejaVu Sans Mono',consolas,'Courier New',monospace\"><span style=\"font-weight: bold\"> Trainable params: </span><span style=\"color: #00af00; text-decoration-color: #00af00\">1,238,006</span> (4.72 MB)\n",
       "</pre>\n"
      ]
     },
     "metadata": {},
     "output_type": "display_data"
    },
    {
     "data": {
      "text/plain": [
       "\u001B[1m Non-trainable params: \u001B[0m\u001B[38;5;34m4,049,571\u001B[0m (15.45 MB)\n"
      ],
      "text/html": [
       "<pre style=\"white-space:pre;overflow-x:auto;line-height:normal;font-family:Menlo,'DejaVu Sans Mono',consolas,'Courier New',monospace\"><span style=\"font-weight: bold\"> Non-trainable params: </span><span style=\"color: #00af00; text-decoration-color: #00af00\">4,049,571</span> (15.45 MB)\n",
       "</pre>\n"
      ]
     },
     "metadata": {},
     "output_type": "display_data"
    }
   ],
   "execution_count": 96
  },
  {
   "cell_type": "code",
   "source": [
    "!pip install git+https://github.com/onnx/tensorflow-onnx"
   ],
   "metadata": {
    "id": "fTr7hMOrVfRx",
    "ExecuteTime": {
     "end_time": "2024-11-27T20:08:17.548899Z",
     "start_time": "2024-11-27T20:08:09.048044Z"
    }
   },
   "outputs": [
    {
     "name": "stdout",
     "output_type": "stream",
     "text": [
      "Collecting git+https://github.com/onnx/tensorflow-onnx\r\n",
      "  Cloning https://github.com/onnx/tensorflow-onnx to /tmp/pip-req-build-670zedfp\r\n",
      "  Running command git clone --filter=blob:none --quiet https://github.com/onnx/tensorflow-onnx /tmp/pip-req-build-670zedfp\r\n",
      "  Resolved https://github.com/onnx/tensorflow-onnx to commit 79cedf926380cdf494dbfc6dd01eaa66122616d2\r\n",
      "  Preparing metadata (setup.py) ... \u001B[?25ldone\r\n",
      "\u001B[?25hRequirement already satisfied: numpy>=1.14.1 in /home/mac/miniconda3/envs/ai/lib/python3.10/site-packages (from tf2onnx==1.16.1) (1.23.5)\r\n",
      "Requirement already satisfied: onnx>=1.4.1 in /home/mac/miniconda3/envs/ai/lib/python3.10/site-packages (from tf2onnx==1.16.1) (1.17.0)\r\n",
      "Requirement already satisfied: requests in /home/mac/miniconda3/envs/ai/lib/python3.10/site-packages (from tf2onnx==1.16.1) (2.32.3)\r\n",
      "Requirement already satisfied: six in /home/mac/miniconda3/envs/ai/lib/python3.10/site-packages (from tf2onnx==1.16.1) (1.16.0)\r\n",
      "Requirement already satisfied: flatbuffers>=1.12 in /home/mac/miniconda3/envs/ai/lib/python3.10/site-packages (from tf2onnx==1.16.1) (24.3.25)\r\n",
      "Requirement already satisfied: protobuf~=3.20 in /home/mac/miniconda3/envs/ai/lib/python3.10/site-packages (from tf2onnx==1.16.1) (3.20.3)\r\n",
      "Requirement already satisfied: charset-normalizer<4,>=2 in /home/mac/miniconda3/envs/ai/lib/python3.10/site-packages (from requests->tf2onnx==1.16.1) (3.3.2)\r\n",
      "Requirement already satisfied: idna<4,>=2.5 in /home/mac/miniconda3/envs/ai/lib/python3.10/site-packages (from requests->tf2onnx==1.16.1) (3.7)\r\n",
      "Requirement already satisfied: urllib3<3,>=1.21.1 in /home/mac/miniconda3/envs/ai/lib/python3.10/site-packages (from requests->tf2onnx==1.16.1) (2.2.3)\r\n",
      "Requirement already satisfied: certifi>=2017.4.17 in /home/mac/miniconda3/envs/ai/lib/python3.10/site-packages (from requests->tf2onnx==1.16.1) (2024.8.30)\r\n"
     ]
    }
   ],
   "execution_count": 97
  },
  {
   "cell_type": "code",
   "source": [
    "import tf2onnx\n",
    "import onnx"
   ],
   "metadata": {
    "id": "U1zy-kKAVj4B",
    "ExecuteTime": {
     "end_time": "2024-11-27T20:08:17.789564Z",
     "start_time": "2024-11-27T20:08:17.784613Z"
    }
   },
   "outputs": [],
   "execution_count": 98
  },
  {
   "cell_type": "code",
   "metadata": {
    "id": "rqZYYTIST6_y",
    "ExecuteTime": {
     "end_time": "2024-11-27T20:11:39.375140Z",
     "start_time": "2024-11-27T20:11:29.956953Z"
    }
   },
   "source": [
    "from datetime import datetime\n",
    "now = datetime.now()\n",
    "current_time = now.strftime(\"%H:%M:%S\")\n",
    "print(\"Started at =\", current_time)\n",
    "datasets = [ 'trainm', 'SCVD', 'RWF-2000',  'rvdata']\n",
    "\n",
    "dpages = [ 20, 100, 200,  200]\n",
    "dsizes = [ 150, 100, 800, 1000]\n",
    "nbr_it = 4\n",
    "batch_size = 20\n",
    "epochs = 8\n",
    "for it in range(nbr_it):\n",
    "  print('#### IT '+str(it))\n",
    "  dt_index = 0\n",
    "  for dataset in datasets:\n",
    "    page_size = dpages[dt_index]\n",
    "    size = dsizes[dt_index]\n",
    "    pages = int(size/page_size)\n",
    "    dt_index+=1\n",
    "    for k in range(pages):\n",
    "      fts_train = np.zeros((2*page_size,) + full_input_shape, dtype=np.float32)\n",
    "      labs_train = np.empty(2*page_size, dtype=np.int_)\n",
    "      loadData( dataset, k*page_size, (k+1)*page_size, fts_train, labs_train)\n",
    "      random_state = np.random.randint(1, 100)\n",
    "      X_train, fights_test, y_train, labels_test = train_test_split(fts_train,\n",
    "                          labs_train, test_size=0.2, random_state=random_state)\n",
    "      #print(labs_train)\n",
    "      y_train = utils.to_categorical(labs_train, num_classes=num_classes)\n",
    "      y_test = utils.to_categorical(labels_test, num_classes=num_classes)\n",
    "      from datetime import datetime\n",
    "      import time\n",
    "      millis = int(round(time.time() * 1000))\n",
    "      if mono:\n",
    "        model.fit(fts_train, y_train,\n",
    "                  batch_size=batch_size,\n",
    "                  epochs=epochs,\n",
    "              #    verbose=1,\n",
    "                  validation_data=(fights_test, y_test),\n",
    "                  callbacks=[earlyStopping, reduce_lr_loss,history])\n",
    "      else:\n",
    "        _fights_train = fts_train.transpose(1,0,2,3,4)\n",
    "        _fights_test = fights_test.transpose(1,0,2,3,4)\n",
    "        print(_fights_train.shape)\n",
    "        if False:\n",
    "            model.fit(_fights_train.tolist(), y_train,\n",
    "                  batch_size=batch_size,\n",
    "                  epochs=epochs,\n",
    "              #    verbose=1,\n",
    "                  validation_data=(_fights_test.tolist(), y_test),\n",
    "                  callbacks=[earlyStopping, reduce_lr_loss,history])\n",
    "      print('Savig the model')\n",
    "      base_path = \"drive/My Drive/\" if RunningInCOLAB else \"\" \n",
    "      model.save(base_path + \"fights\"+str(it)+\".keras\")\n",
    "      v_input_shape = (1,) + input_shape\n",
    "      input_signature = np.repeat(tf.TensorSpec(v_input_shape, tf.float32, name='inp1'), nbr_frame)\n",
    "      model.output_names=['output']\n",
    "      onnx_model, _ = tf2onnx.convert.from_keras(model, input_signature, opset=18)\n",
    "      onnx.save(onnx_model, base_path + \"fights_tf\"+str(it)+\".onnx\")\n",
    "      #open(\"drive/My Drive/fights\"+str(it)+\".tflite\", \"wb\").write(tflite_model)\n",
    "    break\n",
    "    #0.8995 4"
   ],
   "outputs": [
    {
     "name": "stdout",
     "output_type": "stream",
     "text": [
      "Started at = 21:11:29\n",
      "#### IT 0\n",
      "Loading trainm from 0 to 20\n",
      "Readed 20\n",
      "Readed 40\n",
      "(8, 40, 300, 420, 3)\n",
      "Savig the model\n"
     ]
    },
    {
     "ename": "TypeError",
     "evalue": "input_signature must be either a tuple or a list, got <class 'numpy.ndarray'>.",
     "output_type": "error",
     "traceback": [
      "\u001B[0;31m---------------------------------------------------------------------------\u001B[0m",
      "\u001B[0;31mTypeError\u001B[0m                                 Traceback (most recent call last)",
      "Cell \u001B[0;32mIn[102], line 57\u001B[0m\n\u001B[1;32m     55\u001B[0m input_signature \u001B[38;5;241m=\u001B[39m np\u001B[38;5;241m.\u001B[39mrepeat(tf\u001B[38;5;241m.\u001B[39mTensorSpec(v_input_shape, tf\u001B[38;5;241m.\u001B[39mfloat32, name\u001B[38;5;241m=\u001B[39m\u001B[38;5;124m'\u001B[39m\u001B[38;5;124minp1\u001B[39m\u001B[38;5;124m'\u001B[39m), nbr_frame)\n\u001B[1;32m     56\u001B[0m model\u001B[38;5;241m.\u001B[39moutput_names\u001B[38;5;241m=\u001B[39m[\u001B[38;5;124m'\u001B[39m\u001B[38;5;124moutput\u001B[39m\u001B[38;5;124m'\u001B[39m]\n\u001B[0;32m---> 57\u001B[0m onnx_model, _ \u001B[38;5;241m=\u001B[39m \u001B[43mtf2onnx\u001B[49m\u001B[38;5;241;43m.\u001B[39;49m\u001B[43mconvert\u001B[49m\u001B[38;5;241;43m.\u001B[39;49m\u001B[43mfrom_keras\u001B[49m\u001B[43m(\u001B[49m\u001B[43mmodel\u001B[49m\u001B[43m,\u001B[49m\u001B[43m \u001B[49m\u001B[43minput_signature\u001B[49m\u001B[43m,\u001B[49m\u001B[43m \u001B[49m\u001B[43mopset\u001B[49m\u001B[38;5;241;43m=\u001B[39;49m\u001B[38;5;241;43m18\u001B[39;49m\u001B[43m)\u001B[49m\n\u001B[1;32m     58\u001B[0m onnx\u001B[38;5;241m.\u001B[39msave(onnx_model, base_path \u001B[38;5;241m+\u001B[39m \u001B[38;5;124m\"\u001B[39m\u001B[38;5;124mfights_tf\u001B[39m\u001B[38;5;124m\"\u001B[39m\u001B[38;5;241m+\u001B[39m\u001B[38;5;28mstr\u001B[39m(it)\u001B[38;5;241m+\u001B[39m\u001B[38;5;124m\"\u001B[39m\u001B[38;5;124m.onnx\u001B[39m\u001B[38;5;124m\"\u001B[39m)\n\u001B[1;32m     59\u001B[0m \u001B[38;5;66;03m#open(\"drive/My Drive/fights\"+str(it)+\".tflite\", \"wb\").write(tflite_model)\u001B[39;00m\n",
      "File \u001B[0;32m~/miniconda3/envs/ai/lib/python3.10/site-packages/tf2onnx/convert.py:446\u001B[0m, in \u001B[0;36mfrom_keras\u001B[0;34m(model, input_signature, opset, custom_ops, custom_op_handlers, custom_rewriter, inputs_as_nchw, outputs_as_nchw, extra_opset, shape_override, target, large_model, output_path, optimizers)\u001B[0m\n\u001B[1;32m    443\u001B[0m \u001B[38;5;28;01mfrom\u001B[39;00m \u001B[38;5;21;01mtensorflow\u001B[39;00m\u001B[38;5;21;01m.\u001B[39;00m\u001B[38;5;21;01mpython\u001B[39;00m\u001B[38;5;21;01m.\u001B[39;00m\u001B[38;5;21;01mkeras\u001B[39;00m\u001B[38;5;21;01m.\u001B[39;00m\u001B[38;5;21;01msaving\u001B[39;00m \u001B[38;5;28;01mimport\u001B[39;00m saving_utils \u001B[38;5;28;01mas\u001B[39;00m _saving_utils \u001B[38;5;66;03m# pylint: disable=import-outside-toplevel\u001B[39;00m\n\u001B[1;32m    445\u001B[0m \u001B[38;5;66;03m# let tensorflow do the checking if model is a valid model\u001B[39;00m\n\u001B[0;32m--> 446\u001B[0m function \u001B[38;5;241m=\u001B[39m \u001B[43m_saving_utils\u001B[49m\u001B[38;5;241;43m.\u001B[39;49m\u001B[43mtrace_model_call\u001B[49m\u001B[43m(\u001B[49m\u001B[43mmodel\u001B[49m\u001B[43m,\u001B[49m\u001B[43m \u001B[49m\u001B[43minput_signature\u001B[49m\u001B[43m)\u001B[49m\n\u001B[1;32m    447\u001B[0m \u001B[38;5;28;01mtry\u001B[39;00m:\n\u001B[1;32m    448\u001B[0m     concrete_func \u001B[38;5;241m=\u001B[39m function\u001B[38;5;241m.\u001B[39mget_concrete_function()\n",
      "File \u001B[0;32m~/miniconda3/envs/ai/lib/python3.10/site-packages/tensorflow/python/keras/saving/saving_utils.py:121\u001B[0m, in \u001B[0;36mtrace_model_call\u001B[0;34m(model, input_signature)\u001B[0m\n\u001B[1;32m    117\u001B[0m \u001B[38;5;28;01mif\u001B[39;00m input_signature \u001B[38;5;129;01mis\u001B[39;00m \u001B[38;5;28;01mNone\u001B[39;00m:\n\u001B[1;32m    118\u001B[0m   raise_model_input_error(model)\n\u001B[1;32m    120\u001B[0m \u001B[43m\u001B[49m\u001B[38;5;129;43m@def_function\u001B[39;49m\u001B[38;5;241;43m.\u001B[39;49m\u001B[43mfunction\u001B[49m\u001B[43m(\u001B[49m\u001B[43minput_signature\u001B[49m\u001B[38;5;241;43m=\u001B[39;49m\u001B[43minput_signature\u001B[49m\u001B[43m)\u001B[49m\n\u001B[0;32m--> 121\u001B[0m \u001B[43m\u001B[49m\u001B[38;5;28;43;01mdef\u001B[39;49;00m\u001B[43m \u001B[49m\u001B[38;5;21;43m_wrapped_model\u001B[39;49m\u001B[43m(\u001B[49m\u001B[38;5;241;43m*\u001B[39;49m\u001B[43margs\u001B[49m\u001B[43m)\u001B[49m\u001B[43m:\u001B[49m\n\u001B[1;32m    122\u001B[0m \u001B[38;5;250;43m  \u001B[39;49m\u001B[38;5;124;43;03m\"\"\"A concrete tf.function that wraps the model's call function.\"\"\"\u001B[39;49;00m\n\u001B[1;32m    123\u001B[0m \u001B[43m  \u001B[49m\u001B[38;5;66;43;03m# When given a single input, Keras models will call the model on the tensor\u001B[39;49;00m\n\u001B[1;32m    124\u001B[0m \u001B[43m  \u001B[49m\u001B[38;5;66;43;03m# rather than a list consisting of the single tensor.\u001B[39;49;00m\n",
      "File \u001B[0;32m~/miniconda3/envs/ai/lib/python3.10/site-packages/tensorflow/python/eager/polymorphic_function/polymorphic_function.py:1653\u001B[0m, in \u001B[0;36mfunction.<locals>.decorated\u001B[0;34m(inner_function)\u001B[0m\n\u001B[1;32m   1648\u001B[0m \u001B[38;5;28;01mexcept\u001B[39;00m \u001B[38;5;167;01mAttributeError\u001B[39;00m:\n\u001B[1;32m   1649\u001B[0m   name \u001B[38;5;241m=\u001B[39m \u001B[38;5;124m\"\u001B[39m\u001B[38;5;124mfunction\u001B[39m\u001B[38;5;124m\"\u001B[39m\n\u001B[1;32m   1650\u001B[0m \u001B[38;5;28;01mreturn\u001B[39;00m tf_decorator\u001B[38;5;241m.\u001B[39mmake_decorator(\n\u001B[1;32m   1651\u001B[0m     inner_function,\n\u001B[1;32m   1652\u001B[0m     decorator_name\u001B[38;5;241m=\u001B[39m\u001B[38;5;124m\"\u001B[39m\u001B[38;5;124mtf.function\u001B[39m\u001B[38;5;124m\"\u001B[39m,\n\u001B[0;32m-> 1653\u001B[0m     decorator_func\u001B[38;5;241m=\u001B[39m\u001B[43mFunction\u001B[49m\u001B[43m(\u001B[49m\n\u001B[1;32m   1654\u001B[0m \u001B[43m        \u001B[49m\u001B[43minner_function\u001B[49m\u001B[43m,\u001B[49m\n\u001B[1;32m   1655\u001B[0m \u001B[43m        \u001B[49m\u001B[43mname\u001B[49m\u001B[43m,\u001B[49m\n\u001B[1;32m   1656\u001B[0m \u001B[43m        \u001B[49m\u001B[43minput_signature\u001B[49m\u001B[38;5;241;43m=\u001B[39;49m\u001B[43minput_signature\u001B[49m\u001B[43m,\u001B[49m\n\u001B[1;32m   1657\u001B[0m \u001B[43m        \u001B[49m\u001B[43mautograph\u001B[49m\u001B[38;5;241;43m=\u001B[39;49m\u001B[43mautograph\u001B[49m\u001B[43m,\u001B[49m\n\u001B[1;32m   1658\u001B[0m \u001B[43m        \u001B[49m\u001B[43mexperimental_autograph_options\u001B[49m\u001B[38;5;241;43m=\u001B[39;49m\u001B[43mexperimental_autograph_options\u001B[49m\u001B[43m,\u001B[49m\n\u001B[1;32m   1659\u001B[0m \u001B[43m        \u001B[49m\u001B[43mreduce_retracing\u001B[49m\u001B[38;5;241;43m=\u001B[39;49m\u001B[43mreduce_retracing\u001B[49m\u001B[43m,\u001B[49m\n\u001B[1;32m   1660\u001B[0m \n\u001B[1;32m   1661\u001B[0m \u001B[43m        \u001B[49m\u001B[38;5;66;43;03m# TODO(b/171825496): Update once `experimental_compile` is removed\u001B[39;49;00m\n\u001B[1;32m   1662\u001B[0m \u001B[43m        \u001B[49m\u001B[38;5;66;43;03m# entirely in favor of 'jit_compile'.\u001B[39;49;00m\n\u001B[1;32m   1663\u001B[0m \u001B[43m        \u001B[49m\u001B[43mjit_compile\u001B[49m\u001B[38;5;241;43m=\u001B[39;49m\u001B[43mdeprecation\u001B[49m\u001B[38;5;241;43m.\u001B[39;49m\u001B[43mdeprecated_argument_lookup\u001B[49m\u001B[43m(\u001B[49m\n\u001B[1;32m   1664\u001B[0m \u001B[43m            \u001B[49m\u001B[38;5;124;43m\"\u001B[39;49m\u001B[38;5;124;43mjit_compile\u001B[39;49m\u001B[38;5;124;43m\"\u001B[39;49m\u001B[43m,\u001B[49m\n\u001B[1;32m   1665\u001B[0m \u001B[43m            \u001B[49m\u001B[43mjit_compile\u001B[49m\u001B[43m,\u001B[49m\n\u001B[1;32m   1666\u001B[0m \u001B[43m            \u001B[49m\u001B[38;5;124;43m\"\u001B[39;49m\u001B[38;5;124;43mexperimental_compile\u001B[39;49m\u001B[38;5;124;43m\"\u001B[39;49m\u001B[43m,\u001B[49m\n\u001B[1;32m   1667\u001B[0m \u001B[43m            \u001B[49m\u001B[43mexperimental_compile\u001B[49m\u001B[43m)\u001B[49m\u001B[43m,\u001B[49m\n\u001B[1;32m   1668\u001B[0m \u001B[43m        \u001B[49m\u001B[43mexperimental_implements\u001B[49m\u001B[38;5;241;43m=\u001B[39;49m\u001B[43mexperimental_implements\u001B[49m\u001B[43m,\u001B[49m\n\u001B[1;32m   1669\u001B[0m \u001B[43m        \u001B[49m\u001B[43mexperimental_attributes\u001B[49m\u001B[38;5;241;43m=\u001B[39;49m\u001B[43mexperimental_attributes\u001B[49m\u001B[43m)\u001B[49m)\n",
      "File \u001B[0;32m~/miniconda3/envs/ai/lib/python3.10/site-packages/tensorflow/python/eager/polymorphic_function/polymorphic_function.py:492\u001B[0m, in \u001B[0;36mFunction.__init__\u001B[0;34m(self, python_function, name, input_signature, autograph, jit_compile, reduce_retracing, experimental_implements, experimental_autograph_options, experimental_attributes)\u001B[0m\n\u001B[1;32m    489\u001B[0m \u001B[38;5;28mself\u001B[39m\u001B[38;5;241m.\u001B[39m_lock \u001B[38;5;241m=\u001B[39m threading\u001B[38;5;241m.\u001B[39mRLock()\n\u001B[1;32m    490\u001B[0m \u001B[38;5;28mself\u001B[39m\u001B[38;5;241m.\u001B[39m_python_function \u001B[38;5;241m=\u001B[39m python_function\n\u001B[1;32m    491\u001B[0m \u001B[38;5;28mself\u001B[39m\u001B[38;5;241m.\u001B[39m_function_type, \u001B[38;5;28mself\u001B[39m\u001B[38;5;241m.\u001B[39m_default_values \u001B[38;5;241m=\u001B[39m (\n\u001B[0;32m--> 492\u001B[0m     \u001B[43mfunction_type_utils\u001B[49m\u001B[38;5;241;43m.\u001B[39;49m\u001B[43mmake_function_type\u001B[49m\u001B[43m(\u001B[49m\u001B[43mpython_function\u001B[49m\u001B[43m,\u001B[49m\u001B[43m \u001B[49m\u001B[43minput_signature\u001B[49m\u001B[43m)\u001B[49m\n\u001B[1;32m    493\u001B[0m )\n\u001B[1;32m    494\u001B[0m \u001B[38;5;28mself\u001B[39m\u001B[38;5;241m.\u001B[39m_function_cache \u001B[38;5;241m=\u001B[39m function_cache\u001B[38;5;241m.\u001B[39mFunctionCache()\n\u001B[1;32m    495\u001B[0m \u001B[38;5;28mself\u001B[39m\u001B[38;5;241m.\u001B[39m_function_captures \u001B[38;5;241m=\u001B[39m capture_container\u001B[38;5;241m.\u001B[39mFunctionCaptures()\n",
      "File \u001B[0;32m~/miniconda3/envs/ai/lib/python3.10/site-packages/tensorflow/python/eager/polymorphic_function/function_type_utils.py:344\u001B[0m, in \u001B[0;36mmake_function_type\u001B[0;34m(python_function, input_signature)\u001B[0m\n\u001B[1;32m    342\u001B[0m \u001B[38;5;28;01mdef\u001B[39;00m \u001B[38;5;21mmake_function_type\u001B[39m(python_function, input_signature):\n\u001B[1;32m    343\u001B[0m \u001B[38;5;250m  \u001B[39m\u001B[38;5;124;03m\"\"\"Generates a FunctionType for python_function.\"\"\"\u001B[39;00m\n\u001B[0;32m--> 344\u001B[0m   \u001B[43m_validate_signature\u001B[49m\u001B[43m(\u001B[49m\u001B[43minput_signature\u001B[49m\u001B[43m)\u001B[49m\n\u001B[1;32m    346\u001B[0m   function_type \u001B[38;5;241m=\u001B[39m function_type_lib\u001B[38;5;241m.\u001B[39mFunctionType\u001B[38;5;241m.\u001B[39mfrom_callable(\n\u001B[1;32m    347\u001B[0m       python_function\n\u001B[1;32m    348\u001B[0m   )\n\u001B[1;32m    349\u001B[0m   default_values \u001B[38;5;241m=\u001B[39m function_type_lib\u001B[38;5;241m.\u001B[39mFunctionType\u001B[38;5;241m.\u001B[39mget_default_values(\n\u001B[1;32m    350\u001B[0m       python_function\n\u001B[1;32m    351\u001B[0m   )\n",
      "File \u001B[0;32m~/miniconda3/envs/ai/lib/python3.10/site-packages/tensorflow/python/eager/polymorphic_function/function_type_utils.py:460\u001B[0m, in \u001B[0;36m_validate_signature\u001B[0;34m(signature)\u001B[0m\n\u001B[1;32m    457\u001B[0m   \u001B[38;5;28;01mreturn\u001B[39;00m\n\u001B[1;32m    459\u001B[0m \u001B[38;5;28;01mif\u001B[39;00m \u001B[38;5;129;01mnot\u001B[39;00m \u001B[38;5;28misinstance\u001B[39m(signature, (\u001B[38;5;28mtuple\u001B[39m, \u001B[38;5;28mlist\u001B[39m)):\n\u001B[0;32m--> 460\u001B[0m   \u001B[38;5;28;01mraise\u001B[39;00m \u001B[38;5;167;01mTypeError\u001B[39;00m(\n\u001B[1;32m    461\u001B[0m       \u001B[38;5;124m\"\u001B[39m\u001B[38;5;124minput_signature must be either a tuple or a list, got \u001B[39m\u001B[38;5;124m\"\u001B[39m\n\u001B[1;32m    462\u001B[0m       \u001B[38;5;124mf\u001B[39m\u001B[38;5;124m\"\u001B[39m\u001B[38;5;132;01m{\u001B[39;00m\u001B[38;5;28mtype\u001B[39m(signature)\u001B[38;5;132;01m}\u001B[39;00m\u001B[38;5;124m.\u001B[39m\u001B[38;5;124m\"\u001B[39m\n\u001B[1;32m    463\u001B[0m   )\n\u001B[1;32m    465\u001B[0m \u001B[38;5;66;03m# TODO(xjun): Allow VariableSpec once we figure out API for de-aliasing.\u001B[39;00m\n\u001B[1;32m    466\u001B[0m variable_specs \u001B[38;5;241m=\u001B[39m _get_variable_specs(signature)\n",
      "\u001B[0;31mTypeError\u001B[0m: input_signature must be either a tuple or a list, got <class 'numpy.ndarray'>."
     ]
    }
   ],
   "execution_count": 102
  },
  {
   "metadata": {
    "ExecuteTime": {
     "end_time": "2024-11-27T20:09:02.680417Z",
     "start_time": "2024-11-27T20:08:45.638470Z"
    }
   },
   "cell_type": "code",
   "source": [
    "print(np.array([_fights_train[0][0]]).shape)\n",
    "model.predict( [ np.array([_fights_train[0][0]]), \n",
    "                 np.array([_fights_train[1][0]]),\n",
    "                 np.array([_fights_train[2][0]]),\n",
    "                 np.array([_fights_train[3][0]]),\n",
    "                 np.array([_fights_train[4][0]]),\n",
    "                 np.array([_fights_train[5][0]]),\n",
    "                 np.array([_fights_train[6][0]]),\n",
    "                 np.array([_fights_train[7][0]]),])"
   ],
   "outputs": [
    {
     "name": "stdout",
     "output_type": "stream",
     "text": [
      "(1, 300, 420, 3)\n",
      "\u001B[1m1/1\u001B[0m \u001B[32m━━━━━━━━━━━━━━━━━━━━\u001B[0m\u001B[37m\u001B[0m \u001B[1m17s\u001B[0m 17s/step\n"
     ]
    },
    {
     "data": {
      "text/plain": [
       "array([[0.7852607, 0.6340978]], dtype=float32)"
      ]
     },
     "execution_count": 100,
     "metadata": {},
     "output_type": "execute_result"
    }
   ],
   "execution_count": 100
  },
  {
   "cell_type": "code",
   "source": [
    "print('Savig the model')\n",
    "model.save(\"drive/My Drive/fights\"+str(it)+\".keras\")\n",
    "v_input_shape = (1,) + input_shape\n",
    "input_signature = []\n",
    "for i in range(nbr_frame):\n",
    "  input_signature.append(tf.TensorSpec(v_input_shape, tf.float32, name='inp'+str(i+1)))\n",
    "model.output_names=['output']\n",
    "onnx_model, _ = tf2onnx.convert.from_keras(model, input_signature, opset=17)\n",
    "onnx.save(onnx_model, \"drive/My Drive/fights_tf\"+str(it)+\".onnx\")\n"
   ],
   "metadata": {
    "id": "oAu7m4wIVKn7",
    "ExecuteTime": {
     "end_time": "2024-11-27T20:09:03.160989Z",
     "start_time": "2024-11-27T20:09:02.900210Z"
    }
   },
   "outputs": [
    {
     "name": "stdout",
     "output_type": "stream",
     "text": [
      "Savig the model\n"
     ]
    },
    {
     "ename": "FileNotFoundError",
     "evalue": "[Errno 2] No such file or directory: 'drive/My Drive/fights3.keras'",
     "output_type": "error",
     "traceback": [
      "\u001B[0;31m---------------------------------------------------------------------------\u001B[0m",
      "\u001B[0;31mFileNotFoundError\u001B[0m                         Traceback (most recent call last)",
      "Cell \u001B[0;32mIn[101], line 2\u001B[0m\n\u001B[1;32m      1\u001B[0m \u001B[38;5;28mprint\u001B[39m(\u001B[38;5;124m'\u001B[39m\u001B[38;5;124mSavig the model\u001B[39m\u001B[38;5;124m'\u001B[39m)\n\u001B[0;32m----> 2\u001B[0m \u001B[43mmodel\u001B[49m\u001B[38;5;241;43m.\u001B[39;49m\u001B[43msave\u001B[49m\u001B[43m(\u001B[49m\u001B[38;5;124;43m\"\u001B[39;49m\u001B[38;5;124;43mdrive/My Drive/fights\u001B[39;49m\u001B[38;5;124;43m\"\u001B[39;49m\u001B[38;5;241;43m+\u001B[39;49m\u001B[38;5;28;43mstr\u001B[39;49m\u001B[43m(\u001B[49m\u001B[43mit\u001B[49m\u001B[43m)\u001B[49m\u001B[38;5;241;43m+\u001B[39;49m\u001B[38;5;124;43m\"\u001B[39;49m\u001B[38;5;124;43m.keras\u001B[39;49m\u001B[38;5;124;43m\"\u001B[39;49m\u001B[43m)\u001B[49m\n\u001B[1;32m      3\u001B[0m v_input_shape \u001B[38;5;241m=\u001B[39m (\u001B[38;5;241m1\u001B[39m,) \u001B[38;5;241m+\u001B[39m input_shape\n\u001B[1;32m      4\u001B[0m input_signature \u001B[38;5;241m=\u001B[39m []\n",
      "File \u001B[0;32m~/miniconda3/envs/ai/lib/python3.10/site-packages/keras/src/utils/traceback_utils.py:122\u001B[0m, in \u001B[0;36mfilter_traceback.<locals>.error_handler\u001B[0;34m(*args, **kwargs)\u001B[0m\n\u001B[1;32m    119\u001B[0m     filtered_tb \u001B[38;5;241m=\u001B[39m _process_traceback_frames(e\u001B[38;5;241m.\u001B[39m__traceback__)\n\u001B[1;32m    120\u001B[0m     \u001B[38;5;66;03m# To get the full stack trace, call:\u001B[39;00m\n\u001B[1;32m    121\u001B[0m     \u001B[38;5;66;03m# `keras.config.disable_traceback_filtering()`\u001B[39;00m\n\u001B[0;32m--> 122\u001B[0m     \u001B[38;5;28;01mraise\u001B[39;00m e\u001B[38;5;241m.\u001B[39mwith_traceback(filtered_tb) \u001B[38;5;28;01mfrom\u001B[39;00m \u001B[38;5;28;01mNone\u001B[39;00m\n\u001B[1;32m    123\u001B[0m \u001B[38;5;28;01mfinally\u001B[39;00m:\n\u001B[1;32m    124\u001B[0m     \u001B[38;5;28;01mdel\u001B[39;00m filtered_tb\n",
      "File \u001B[0;32m~/miniconda3/envs/ai/lib/python3.10/site-packages/keras/src/saving/saving_lib.py:143\u001B[0m, in \u001B[0;36msave_model\u001B[0;34m(model, filepath, weights_format, zipped)\u001B[0m\n\u001B[1;32m    141\u001B[0m         f\u001B[38;5;241m.\u001B[39mwrite(zip_filepath\u001B[38;5;241m.\u001B[39mgetvalue())\n\u001B[1;32m    142\u001B[0m \u001B[38;5;28;01melse\u001B[39;00m:\n\u001B[0;32m--> 143\u001B[0m     \u001B[38;5;28;01mwith\u001B[39;00m \u001B[38;5;28;43mopen\u001B[39;49m\u001B[43m(\u001B[49m\u001B[43mfilepath\u001B[49m\u001B[43m,\u001B[49m\u001B[43m \u001B[49m\u001B[38;5;124;43m\"\u001B[39;49m\u001B[38;5;124;43mwb\u001B[39;49m\u001B[38;5;124;43m\"\u001B[39;49m\u001B[43m)\u001B[49m \u001B[38;5;28;01mas\u001B[39;00m f:\n\u001B[1;32m    144\u001B[0m         _save_model_to_fileobj(model, f, weights_format)\n",
      "\u001B[0;31mFileNotFoundError\u001B[0m: [Errno 2] No such file or directory: 'drive/My Drive/fights3.keras'"
     ]
    }
   ],
   "execution_count": 101
  },
  {
   "cell_type": "code",
   "source": [
    "model.save(\"fights\"+str(it)+\".keras\")"
   ],
   "metadata": {
    "id": "dpZYhp0FWKPE"
   },
   "execution_count": null,
   "outputs": []
  },
  {
   "cell_type": "code",
   "execution_count": null,
   "metadata": {
    "id": "UspnOh-lT6_y"
   },
   "outputs": [],
   "source": [
    "# This is important, let's fix the input size.\n",
    "v_input_shape = (0,) + full_input_shape\n"
   ]
  },
  {
   "cell_type": "code",
   "execution_count": null,
   "metadata": {
    "id": "EXTdQ_UNsB_V"
   },
   "outputs": [],
   "source": [
    "#model = tf.keras.models.load_model('fights.keras')"
   ]
  },
  {
   "cell_type": "code",
   "source": [
    "!ls -l -a /tmp"
   ],
   "metadata": {
    "id": "BuMqObZ54Nhw"
   },
   "execution_count": null,
   "outputs": []
  },
  {
   "cell_type": "code",
   "execution_count": null,
   "metadata": {
    "id": "q3bEUF3fsB_V"
   },
   "outputs": [],
   "source": [
    "  converter = tf.lite.TFLiteConverter.from_keras_model(model)\n",
    "  converter.target_spec.supported_ops = [\n",
    "    #tf.lite.OpsSet.TFLITE_BUILTINS, # enable TensorFlow Lite ops.\n",
    "    #tf.lite.OpsSet.SELECT_TF_OPS # enable TensorFlow ops.\n",
    "  ]\n",
    "  converter.experimental_new_converter = True\n",
    "  converter.experimental_enable_resource_variables = True\n",
    "  tflite_model = converter.convert()\n",
    "  #open(\"fights\"+str(it)+\".tflite\", \"wb\").write(tflite_model)\n",
    "  print('ff')\n",
    "  open(\"fights.tflite\", \"wb\").write(tflite_model)\n",
    "  #open(\"drive/My Drive/fights.tflite\", \"wb\").write(tflite_model)"
   ]
  },
  {
   "cell_type": "code",
   "execution_count": null,
   "metadata": {
    "id": "FMrKcwZ5cw-_"
   },
   "outputs": [],
   "source": []
  },
  {
   "cell_type": "code",
   "execution_count": null,
   "metadata": {
    "id": "esOEFZV8URjc"
   },
   "outputs": [],
   "source": [
    "#model = tf.keras.models.load_model('fights.keras')\n",
    "interpreter = tf.lite.Interpreter(model_path='fights.tflite')\n",
    "interpreter.allocate_tensors()\n",
    "input_details = interpreter.get_input_details()\n",
    "output_details = interpreter.get_output_details()"
   ]
  },
  {
   "cell_type": "code",
   "execution_count": null,
   "metadata": {
    "id": "1OvH1ca1URjd"
   },
   "outputs": [],
   "source": [
    "import sys\n",
    "import rknn.api"
   ]
  },
  {
   "cell_type": "code",
   "execution_count": null,
   "metadata": {
    "id": "LTEcaUTgsB_V"
   },
   "outputs": [],
   "source": [
    "TEST_CASES = 10\n",
    "rknn = RKNN(verbose=True)\n",
    "ret = rknn.init_runtime()\n",
    "rknn.load_rknn('fights.rknn')\n",
    "for i in range(TEST_CASES):\n",
    "  inputs = [np.expand_dims(_fights_train[0][i], 0),\n",
    "                            np.expand_dims(_fights_train[1][i], 0),\n",
    "                            np.expand_dims(_fights_train[2][i], 0),\n",
    "                            np.expand_dims(_fights_train[3][i], 0),\n",
    "                            np.expand_dims(_fights_train[4][i], 0),\n",
    "                            np.expand_dims(_fights_train[5][i], 0),\n",
    "                            np.expand_dims(_fights_train[6][i], 0),\n",
    "                            np.expand_dims(_fights_train[7][i], 0),]\n",
    "  outputs = rknn.inference(inputs=inputs, data_format=['nhwc'])\n",
    "  expected = model.predict([np.expand_dims(_fights_train[0][i], 0),\n",
    "                            np.expand_dims(_fights_train[1][i], 0),\n",
    "                            np.expand_dims(_fights_train[2][i], 0),\n",
    "                            np.expand_dims(_fights_train[3][i], 0),\n",
    "                            np.expand_dims(_fights_train[4][i], 0),\n",
    "                            np.expand_dims(_fights_train[5][i], 0),\n",
    "                            np.expand_dims(_fights_train[6][i], 0),\n",
    "                            np.expand_dims(_fights_train[7][i], 0),])\n",
    "  for j in range(8):\n",
    "    interpreter.set_tensor(input_details[j]['index'], np.expand_dims(_fights_train[j][i], 0))\n",
    "  interpreter.invoke()\n",
    "  result = interpreter.get_tensor(output_details[0][\"index\"])\n",
    "  print(expected)\n",
    "  print(outputs)\n",
    "  print(result)\n",
    "  #np.testing.assert_almost_equal(expected, result, decimal=5)\n",
    "  print(\"Done. The result of TensorFlow matches the result of TensorFlow Lite.\")\n",
    "  # Please note: TfLite fused Lstm kernel is stateful, so we need to reset\n",
    "  # the states.\n",
    "  # Clean up internal states.\n",
    "  interpreter.reset_all_variables()"
   ]
  },
  {
   "cell_type": "code",
   "execution_count": null,
   "metadata": {
    "id": "zIem8Ndw2a1L"
   },
   "outputs": [],
   "source": [
    "!pip install git+https://github.com/onnx/tensorflow-onnx"
   ]
  },
  {
   "cell_type": "code",
   "execution_count": null,
   "metadata": {
    "id": "UgVI1_yjsB_W"
   },
   "outputs": [],
   "source": [
    "model = tf.keras.models.load_model('fights0.keras')"
   ]
  },
  {
   "cell_type": "code",
   "execution_count": null,
   "metadata": {
    "id": "aeNU3S6ExZgi"
   },
   "outputs": [],
   "source": [
    "!pip install git+https://github.com/onnx/tensorflow-onnx"
   ]
  },
  {
   "cell_type": "code",
   "execution_count": null,
   "metadata": {
    "id": "V-8gpO-QsB_W"
   },
   "outputs": [],
   "source": [
    "import tf2onnx\n",
    "import onnx"
   ]
  },
  {
   "cell_type": "code",
   "execution_count": null,
   "metadata": {
    "id": "ylY-XypB0ihf"
   },
   "outputs": [],
   "source": [
    "v_input_shape = (1,) + input_shape\n",
    "print(v_input_shape)\n",
    "input_signature = [tf.TensorSpec(v_input_shape, tf.float32, name='inp1'),\n",
    "                   tf.TensorSpec(v_input_shape, tf.float32, name='inp2'),\n",
    "                   tf.TensorSpec(v_input_shape, tf.float32, name='inp3'),\n",
    "                   tf.TensorSpec(v_input_shape, tf.float32, name='inp4'),\n",
    "                   tf.TensorSpec(v_input_shape, tf.float32, name='inp5'),\n",
    "                   tf.TensorSpec(v_input_shape, tf.float32, name='inp6'),\n",
    "                   tf.TensorSpec(v_input_shape, tf.float32, name='inp7'),\n",
    "                   tf.TensorSpec(v_input_shape, tf.float32, name='inp8'),\n",
    "                   ]\n",
    "# Use from_function for tf functions\n",
    "model.output_names=['output']\n",
    "onnx_model, _ = tf2onnx.convert.from_keras(model, input_signature, opset=17)\n",
    "onnx.save(onnx_model, \"fights.onnx\")"
   ]
  },
  {
   "cell_type": "code",
   "execution_count": null,
   "metadata": {
    "id": "kchZTtKCc38x"
   },
   "outputs": [],
   "source": [
    "onnx_model, _ = tf2onnx.convert.from_tflite('fights0.tflite', opset=12)\n",
    "onnx.save(onnx_model, \"fights-tf.onnx\")"
   ]
  },
  {
   "cell_type": "code",
   "execution_count": null,
   "metadata": {
    "id": "LBt3PcWWsB_X"
   },
   "outputs": [],
   "source": [
    "rknn = RKNN(verbose=False)\n",
    "means = [2,2,2]\n",
    "#means = np.repeat(means[np.newaxis,...], 180, axis=0)\n",
    "#means = np.repeat(means[np.newaxis,...], 150, axis=0)\n",
    "\n",
    "rknn.config( target_platform='rv1106', mean_values=[means], std_values=[means], data_format='')\n",
    "ret = rknn.load_onnx(model='fights.onnx', inputs=['x'], input_size_list=[[10, 150, 180, 3]])\n",
    "ret = rknn.build(do_quantization=True, dataset='./dataset/dataset.txt')\n",
    "ret = rknn.export_rknn('out.rknn')"
   ]
  },
  {
   "cell_type": "code",
   "execution_count": null,
   "metadata": {
    "id": "RsLHdZsnT6_y"
   },
   "outputs": [],
   "source": [
    "acc = history.acc\n",
    "val_acc = history.val_acc\n",
    "loss = history.loss\n",
    "val_loss = history.val_loss\n",
    "epochs = range(len(acc))\n",
    "\n",
    "plt.plot(epochs, acc, 'b', label='Training acc')\n",
    "plt.plot(epochs, val_acc, 'r', label='Validation acc')\n",
    "plt.title('Training and validation accuracy')\n",
    "plt.legend()\n",
    "\n",
    "plt.figure()\n",
    "\n",
    "plt.plot(epochs, loss, 'b', label='Training loss')\n",
    "plt.plot(epochs, val_loss, 'r', label='Validation loss')\n",
    "plt.title('Training and validation loss')\n",
    "plt.legend()\n",
    "\n",
    "plt.show()"
   ]
  },
  {
   "cell_type": "code",
   "execution_count": null,
   "metadata": {
    "id": "1cbUAGCPT6_z"
   },
   "outputs": [],
   "source": [
    "score = model.evaluate(fights_test, y_test, batch_size=3)\n",
    "score"
   ]
  },
  {
   "cell_type": "code",
   "execution_count": null,
   "metadata": {
    "id": "m78egKGIT6_z"
   },
   "outputs": [],
   "source": [
    "from sklearn.metrics import classification_report, confusion_matrix"
   ]
  },
  {
   "cell_type": "code",
   "execution_count": null,
   "metadata": {
    "id": "i6re0P9mT6_z"
   },
   "outputs": [],
   "source": [
    "import pandas as pd\n",
    "import matplotlib.pyplot as plt\n",
    "import seaborn as sns\n",
    "\n",
    "def print_confusion_matrix(confusion_matrix, class_names, figsize = (10,7), fontsize=14):\n",
    "    df_cm = pd.DataFrame(\n",
    "        confusion_matrix, index=class_names, columns=class_names,\n",
    "    )\n",
    "    fig = plt.figure(figsize=figsize)\n",
    "    try:\n",
    "        heatmap = sns.heatmap(df_cm, annot=True, fmt=\"d\")\n",
    "    except ValueError:\n",
    "        raise ValueError(\"Confusion matrix values must be integers.\")\n",
    "    heatmap.yaxis.set_ticklabels(heatmap.yaxis.get_ticklabels(), rotation=0, ha='right', fontsize=fontsize)\n",
    "    heatmap.xaxis.set_ticklabels(heatmap.xaxis.get_ticklabels(), rotation=45, ha='right', fontsize=fontsize)\n",
    "    plt.ylabel('True label')\n",
    "    plt.xlabel('Predicted label')\n",
    "    return fig"
   ]
  },
  {
   "cell_type": "code",
   "execution_count": null,
   "metadata": {
    "id": "lVCl9BK5T6_z"
   },
   "outputs": [],
   "source": [
    "Y_pred = model.predict(fights_test , batch_size=1)"
   ]
  },
  {
   "cell_type": "code",
   "execution_count": null,
   "metadata": {
    "id": "pvxOgbbDT6_z"
   },
   "outputs": [],
   "source": [
    "yprd = Y_pred > 0.5\n",
    "yprd"
   ]
  },
  {
   "cell_type": "code",
   "execution_count": null,
   "metadata": {
    "id": "NYHQ2lVET6_z"
   },
   "outputs": [],
   "source": [
    "ypredicted = []\n",
    "for zero,one in yprd:\n",
    "    if zero == True:\n",
    "        ypredicted.append(0)\n",
    "    else:\n",
    "        ypredicted.append(1)"
   ]
  },
  {
   "cell_type": "code",
   "execution_count": null,
   "metadata": {
    "id": "evJopWXfT6_0"
   },
   "outputs": [],
   "source": [
    "ypredicted"
   ]
  },
  {
   "cell_type": "code",
   "execution_count": null,
   "metadata": {
    "id": "ZKDRD7R9T6_0"
   },
   "outputs": [],
   "source": [
    "y_test"
   ]
  },
  {
   "cell_type": "code",
   "execution_count": null,
   "metadata": {
    "id": "SnzTpvWiT6_0"
   },
   "outputs": [],
   "source": [
    "y = []\n",
    "\n",
    "for zero,one in y_test:\n",
    "    if zero == True:\n",
    "        y.append(0)\n",
    "    else:\n",
    "        y.append(1)"
   ]
  },
  {
   "cell_type": "code",
   "execution_count": null,
   "metadata": {
    "id": "PVktLCG0T6_0"
   },
   "outputs": [],
   "source": [
    "confusion = confusion_matrix(y,ypredicted)\n",
    "confusion.shape"
   ]
  },
  {
   "cell_type": "code",
   "execution_count": null,
   "metadata": {
    "id": "1RrnlE_QT6_0"
   },
   "outputs": [],
   "source": [
    "print_confusion_matrix(confusion, [0,1], figsize = (30,15), fontsize=16)"
   ]
  },
  {
   "cell_type": "code",
   "execution_count": null,
   "metadata": {
    "id": "teV2uv3fT6_0"
   },
   "outputs": [],
   "source": [
    "print('Classification Report')\n",
    "print(classification_report(y, ypredicted, target_names=['no-violance','violance']))"
   ]
  }
 ],
 "metadata": {
  "colab": {
   "provenance": [],
   "machine_shape": "hm"
  },
  "kernelspec": {
   "display_name": "Python 3 (ipykernel)",
   "name": "python3",
   "language": "python"
  },
  "language_info": {
   "codemirror_mode": {
    "name": "ipython",
    "version": 3
   },
   "file_extension": ".py",
   "mimetype": "text/x-python",
   "name": "python",
   "nbconvert_exporter": "python",
   "pygments_lexer": "ipython3",
   "version": "3.7.5"
  }
 },
 "nbformat": 4,
 "nbformat_minor": 0
}
