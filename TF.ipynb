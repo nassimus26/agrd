{
 "cells": [
  {
   "cell_type": "code",
   "metadata": {
    "id": "gvdYoTqq5hQl",
    "ExecuteTime": {
     "end_time": "2024-10-29T21:57:59.535984Z",
     "start_time": "2024-10-29T21:57:59.531939Z"
    }
   },
   "source": [
    "from pathlib import Path"
   ],
   "outputs": [],
   "execution_count": 1
  },
  {
   "cell_type": "code",
   "metadata": {
    "colab": {
     "base_uri": "https://localhost:8080/"
    },
    "id": "hRi-J2JoUIS-",
    "outputId": "4a4bc317-bf5e-4245-a17b-bf34927c0918",
    "ExecuteTime": {
     "end_time": "2024-10-29T21:57:59.656778Z",
     "start_time": "2024-10-29T21:57:59.637962Z"
    }
   },
   "source": [
    "RunningInCOLAB = 'google.colab' in str(get_ipython())\n",
    "if RunningInCOLAB:\n",
    "  from google.colab import drive\n",
    "  drive.mount('/content/drive')"
   ],
   "outputs": [],
   "execution_count": 2
  },
  {
   "cell_type": "code",
   "metadata": {
    "id": "Y5tJLHNhUXHg",
    "ExecuteTime": {
     "end_time": "2024-10-29T21:57:59.801472Z",
     "start_time": "2024-10-29T21:57:59.797671Z"
    }
   },
   "source": [
    "if RunningInCOLAB:\n",
    "  my_file = Path(\"trainm\")\n",
    "  if my_file.exists()==False:\n",
    "    !unzip drive/\"My Drive\"/trainm.zip"
   ],
   "outputs": [],
   "execution_count": 3
  },
  {
   "cell_type": "code",
   "metadata": {
    "id": "nOBtj0HT09pG",
    "ExecuteTime": {
     "end_time": "2024-10-29T21:57:59.939348Z",
     "start_time": "2024-10-29T21:57:59.843198Z"
    }
   },
   "source": [
    "if RunningInCOLAB:\n",
    "  kaggle_folder = Path(\".kaggle\")\n",
    "  if Path(\"rvdata\").exists()==False:\n",
    "    !pip install -q kaggle\n",
    "    !mkdir ~/.kaggle\n",
    "    !cp drive/\"My Drive\"/kaggle.json ~/.kaggle/\n",
    "    !chmod 600 ~/.kaggle/kaggle.json\n",
    "    !kaggle datasets download -d mohamedmustafa/real-life-violence-situations-dataset\n",
    "    !unzip real-life-violence-situations-dataset.zip\n",
    "    !rm real-life-violence-situations-dataset.zip\n",
    "    !rm -R \"real life violence situations\"\n",
    "    !mv -T \"Real Life Violence Dataset\" \"rvdata\"\n",
    "    !kaggle datasets download -d vulamnguyen/rwf2000\n",
    "    !unzip rwf2000.zip\n",
    "    !rm rwf2000.zip\n",
    "    !mv RWF-2000/train/* RWF-2000/\n",
    "    !mv RWF-2000/val/Fight/* RWF-2000/Fight\n",
    "    !mv RWF-2000/val/NonFight/* RWF-2000/NonFight\n",
    "    !rm -R RWF-2000/train/\n",
    "    !rm -R RWF-2000/val/\n",
    "    #!git clone https://github.com/airtlab/A-Dataset-for-Automatic-Violence-Detection-in-Videos.git\n",
    "    #!mv -T A-Dataset-for-Automatic-Violence-Detection-in-Videos/violence-detection-dataset vdd\n",
    "    #!rm -R A-Dataset-for-Automatic-Violence-Detection-in-Videos\n",
    "    !kaggle datasets download -d toluwaniaremu/smartcity-cctv-violence-detection-dataset-scvd\n",
    "    !unzip smartcity-cctv-violence-detection-dataset-scvd.zip\n",
    "    !rm smartcity-cctv-violence-detection-dataset-scvd.zip\n",
    "    !rm -R SCVD/SCVD_converted_sec_split\n",
    "    !mkdir SCVD/NonViolence\n",
    "    !mkdir SCVD/Violence\n",
    "    !mv SCVD/SCVD_converted/Train/Normal/* SCVD/NonViolence\n",
    "    !mv SCVD/SCVD_converted/Train/Violence/* SCVD/Violence\n",
    "    !mv SCVD/SCVD_converted/Train/Weaponized/* SCVD/Violence\n",
    "    !mv SCVD/SCVD_converted/Test/Normal/* SCVD/NonViolence\n",
    "    !mv SCVD/SCVD_converted/Test/Violence/* SCVD/Violence\n",
    "    !mv SCVD/SCVD_converted/Test/Weaponized/* SCVD/Violence\n",
    "    !rm -R SCVD/SCVD_converted"
   ],
   "outputs": [],
   "execution_count": 4
  },
  {
   "cell_type": "code",
   "metadata": {
    "id": "X40jHPm7sB_Q",
    "ExecuteTime": {
     "end_time": "2024-10-29T21:58:00.023269Z",
     "start_time": "2024-10-29T21:57:59.950465Z"
    }
   },
   "source": [
    "#!pip install tensorflow==2.18.rc2"
   ],
   "outputs": [],
   "execution_count": 5
  },
  {
   "cell_type": "code",
   "metadata": {
    "id": "lK4Jl2KOsB_R",
    "ExecuteTime": {
     "end_time": "2024-10-29T21:58:11.057965Z",
     "start_time": "2024-10-29T21:58:00.034276Z"
    }
   },
   "source": [
    "import tensorflow as tf\n",
    "import cv2\n",
    "import numpy as np\n",
    "import matplotlib.pyplot as plt\n",
    "import os\n",
    "from numpy import save\n",
    "from numpy import load\n",
    "from sklearn.model_selection import train_test_split\n",
    "random = np.random\n",
    "layers = tf.keras.layers\n",
    "models = tf.keras.models\n",
    "losses = tf.keras.losses\n",
    "optimizers = tf.keras.optimizers\n",
    "metrics = tf.keras.metrics\n",
    "utils = tf.keras.utils\n",
    "callbacks = tf.keras.callbacks\n",
    "layers = tf.keras.layers\n",
    "models = tf.keras.models\n",
    "ImageDataGenerator = tf.keras.preprocessing.image.ImageDataGenerator\n",
    "losses = tf.keras.losses\n",
    "optimizers = tf.keras.optimizers\n",
    "metrics = tf.keras.metrics\n",
    "utils = tf.keras.utils\n",
    "callbacks = tf.keras.callbacks\n",
    "plot_model = tf.keras.utils.plot_model"
   ],
   "outputs": [
    {
     "name": "stderr",
     "output_type": "stream",
     "text": [
      "2024-10-29 22:58:01.932970: E external/local_xla/xla/stream_executor/cuda/cuda_fft.cc:477] Unable to register cuFFT factory: Attempting to register factory for plugin cuFFT when one has already been registered\n",
      "WARNING: All log messages before absl::InitializeLog() is called are written to STDERR\n",
      "E0000 00:00:1730239082.266554   12960 cuda_dnn.cc:8310] Unable to register cuDNN factory: Attempting to register factory for plugin cuDNN when one has already been registered\n",
      "E0000 00:00:1730239082.355402   12960 cuda_blas.cc:1418] Unable to register cuBLAS factory: Attempting to register factory for plugin cuBLAS when one has already been registered\n"
     ]
    }
   ],
   "execution_count": 6
  },
  {
   "cell_type": "code",
   "metadata": {
    "colab": {
     "base_uri": "https://localhost:8080/"
    },
    "id": "6YWSGwMQ3cbJ",
    "outputId": "41c28399-5fd7-45a2-cdb4-479cd66e2f2f",
    "ExecuteTime": {
     "end_time": "2024-10-29T21:58:11.102215Z",
     "start_time": "2024-10-29T21:58:11.093640Z"
    }
   },
   "source": [
    "mono = False\n",
    "frame_readed = 500\n",
    "frame_pages = 20\n",
    "nbr_frame = 8\n",
    "img_width = 420\n",
    "img_height = 300\n",
    "img_size = (img_height, img_width)\n",
    "input_shape = (3,) + img_size\n",
    "full_input_shape = (nbr_frame,) + input_shape\n",
    "print(full_input_shape)"
   ],
   "outputs": [
    {
     "name": "stdout",
     "output_type": "stream",
     "text": [
      "(8, 3, 300, 420)\n"
     ]
    }
   ],
   "execution_count": 7
  },
  {
   "cell_type": "code",
   "metadata": {
    "id": "0KJ98zybT6_s",
    "ExecuteTime": {
     "end_time": "2024-10-29T21:58:11.256688Z",
     "start_time": "2024-10-29T21:58:11.238495Z"
    }
   },
   "source": [
    "tf.keras.backend.set_image_data_format(\n",
    "    'channels_first'\n",
    ")\n",
    "def capture(filename):\n",
    "  frames = np.zeros( (frame_readed,) +input_shape, dtype=np.float32)\n",
    "  i = 0\n",
    "  vc = cv2.VideoCapture(filename)\n",
    "  while i<frame_readed:\n",
    "      if vc.isOpened():\n",
    "          rval, frame = vc.read()\n",
    "      else:\n",
    "          print( 'Failed to read the video ' + filename)\n",
    "          return frames\n",
    "      if rval==False:\n",
    "          break\n",
    "      frm = cv2.resize(frame, (img_width, img_height))\n",
    "      frm = tf.keras.applications.efficientnet.preprocess_input(frm)\n",
    "      frm = np.expand_dims(frm, axis=0)\n",
    "      #if np.max(frm)>1:\n",
    "      #  frm = frm/255.0\n",
    "      frm = frm.transpose(0,3,1,2)\n",
    "      frames[i][:] = frm\n",
    "      i +=1\n",
    "      if i==(nbr_frame*30):\n",
    "          break\n",
    "  vc.release()\n",
    "  step = int(i/nbr_frame)\n",
    "  if (step>4):\n",
    "    step = random.randint(2, step)\n",
    "  start = int((i - step*nbr_frame)/2)\n",
    "  start += random.randint(0, int(start/2)+1 ) - int(start/2)\n",
    "  if (start<0):\n",
    "    start = 0\n",
    "  if (start + step*nbr_frame > i):\n",
    "    start = i - step*nbr_frame\n",
    "  resf = np.empty( (nbr_frame,) + input_shape )\n",
    "  k = 0\n",
    "  while k<nbr_frame:\n",
    "      j = int(step*k)\n",
    "      frm = frames[start+j]\n",
    "      resf[k][:] = frm\n",
    "      k = k+1\n",
    "  return resf\n"
   ],
   "outputs": [],
   "execution_count": 8
  },
  {
   "cell_type": "code",
   "metadata": {
    "id": "jl1S7nTkT6_w",
    "ExecuteTime": {
     "end_time": "2024-10-29T21:58:11.357638Z",
     "start_time": "2024-10-29T21:58:11.351347Z"
    }
   },
   "source": [
    "#cut_save('./testm/',\"test\")\n",
    "#plt.imshow(fights_test[19][5])\n",
    "#plt.show()"
   ],
   "outputs": [],
   "execution_count": 9
  },
  {
   "cell_type": "code",
   "metadata": {
    "id": "Pyu1zYVhW9Ue",
    "ExecuteTime": {
     "end_time": "2024-10-29T21:58:11.413403Z",
     "start_time": "2024-10-29T21:58:11.404190Z"
    }
   },
   "source": [
    "class AccuracyHistory(callbacks.Callback):\n",
    "    def on_train_begin(self, logs={}):\n",
    "        self.acc = []\n",
    "        self.val_acc = []\n",
    "        self.loss = []\n",
    "        self.val_loss = []\n",
    "\n",
    "    def on_epoch_end(self, batch, logs={}):\n",
    "        self.acc.append(logs.get('acc'))\n",
    "        self.val_acc.append(logs.get('val_acc'))\n",
    "        self.loss.append(logs.get('loss'))\n",
    "        self.val_loss.append(logs.get('val_loss'))\n",
    "\n",
    "history = AccuracyHistory()\n",
    "earlyStopping = callbacks.EarlyStopping(monitor='val_loss', patience=8,min_delta=1e-5, verbose=0, mode='min')\n",
    "mcp_save = callbacks.ModelCheckpoint('fights.keras', save_best_only=True, monitor='val_loss', mode='min')\n",
    "reduce_lr_loss = callbacks.ReduceLROnPlateau(monitor='val_loss',patience=10, verbose=2, factor=0.5,min_lr=0.0000001)\n"
   ],
   "outputs": [],
   "execution_count": 10
  },
  {
   "cell_type": "code",
   "metadata": {
    "id": "x_DHfpuv4eje",
    "ExecuteTime": {
     "end_time": "2024-10-29T21:58:11.479008Z",
     "start_time": "2024-10-29T21:58:11.459480Z"
    }
   },
   "source": [
    "maxSize = 10*1024*1024\n",
    "def loadData(dataset, ist, ito, fts_train, labs_train):\n",
    "  print('Loading ' + dataset +' from ' + str(ist) + ' to ' + str(ito) )\n",
    "  page_size = ito-ist\n",
    "  i= 0\n",
    "  for x in os.listdir('./' + dataset):\n",
    "    lx = x.lower()\n",
    "    violence = 1 if (lx.startswith('fight') or lx.startswith('viol')) else 0\n",
    "    td = dataset+'/'+x+'/'\n",
    "    notGood = 'fight' not in x.lower() and 'viol' not in x.lower()\n",
    "    if notGood or os.path.isdir(td)==False:\n",
    "      continue\n",
    "    n= 0\n",
    "    #print('-> folder ' +td)\n",
    "    nbrFiles = 0\n",
    "    for file in Path(td).rglob(\"*\"):\n",
    "      fl = os.path.join('', file)\n",
    "      #print('file ' + fl)\n",
    "      #print(os.path.getsize(fl))\n",
    "      if file.is_dir():\n",
    "        continue\n",
    "      if os.path.getsize(fl)>maxSize:\n",
    "        continue\n",
    "      nbrFiles += 1\n",
    "    #print('nbrFiles '+str(nbrFiles))\n",
    "    if ito > nbrFiles:\n",
    "      ito = nbrFiles\n",
    "      ist = nbrFiles-page_size\n",
    "      print( 'ist - ito ' + str(ist) + ' - ' + str(ito) )\n",
    "    for file in Path(td).rglob(\"*\"):\n",
    "      fl = os.path.join('', file)\n",
    "      if file.is_dir():\n",
    "        continue\n",
    "      if os.path.getsize(fl)>maxSize:\n",
    "        continue\n",
    "      #print('visiting ' + fl)\n",
    "      if n<ist:\n",
    "        n+=1\n",
    "        continue\n",
    "      if n>=ito:\n",
    "        break\n",
    "      videos = capture(fl)\n",
    "      fts_train[i][:][:] = videos\n",
    "      labs_train[i] = violence\n",
    "      i+=1\n",
    "      n+=1\n",
    "    ###### this part is not usefull anymore\n",
    "    print(\"Readed \"+str(i))\n",
    "    half= int(len(fts_train)/2)\n",
    "    if i<half:\n",
    "      while i<half:\n",
    "        print(\"Random repeat \"+str(i)+'/'+str(half))\n",
    "        p = np.random.randint(0, i-1)\n",
    "        fts_train[i][:][:] = fts_train[p]\n",
    "        labs_train[i] = labs_train[p]\n",
    "        i+=1\n",
    "    else:\n",
    "      if i>half:\n",
    "        while i<len(fts_train):\n",
    "          print(\"Random repeat \"+str(i)+'/'+str(half))\n",
    "          p = np.random.randint(half+1, len(fts_train)-1)\n",
    "          fts_train[i][:][:] = fts_train[p]\n",
    "          labs_train[i] = labs_train[p]\n",
    "          i+=1"
   ],
   "outputs": [],
   "execution_count": 11
  },
  {
   "cell_type": "code",
   "metadata": {
    "colab": {
     "base_uri": "https://localhost:8080/"
    },
    "id": "4kKTIaCHT6_w",
    "outputId": "25d63957-6304-4459-a212-3947e494fce4",
    "ExecuteTime": {
     "end_time": "2024-10-29T21:58:23.722361Z",
     "start_time": "2024-10-29T21:58:11.544727Z"
    }
   },
   "source": [
    "np.random.seed(1234)\n",
    "num_classes = 2\n",
    "base_model = tf.keras.applications.EfficientNetB0(\n",
    "    include_top=False,\n",
    "    weights='imagenet',\n",
    "    input_tensor=None,\n",
    "    input_shape = input_shape,\n",
    "    pooling=True,\n",
    "    classes = num_classes\n",
    ")\n",
    "base_model.trainable = False\n",
    "for layer in base_model.layers:\n",
    "    layer.trainable = False\n",
    "#base_model.summary() \n",
    "cnn = models.Sequential()\n",
    "cnn.add(base_model)\n",
    "cnn = base_model\n",
    "#cnn.add(layers.GlobalAveragePooling2D())\n",
    "def func(x):\n",
    "  return tf.cast(tf.math.logical_and(x < 0.1, x > -0.1), dtype=tf.float32);\n",
    "    #abs = tf.keras.backend.abs(abs, x) #will return boolean values\n",
    "    #greater = tf.keras.backend.greater(abs, 0.009)\n",
    "    #return tf.keras.backend.cast(greater, dtype=tf.keras.backend.floatx()) #will return boolean values\n",
    "thresholdLayer = tf.keras.layers.Lambda(func)\n",
    "def filters(x, i):\n",
    "  #zero = tf.keras.backend.constant(np.full((1, 340, 460, 3), 0 ), 'float32')\n",
    " # x = layers.subtract(inputs=[input, avg])\n",
    " # x = thresholdLayer(x)\n",
    " # x = layers.multiply(inputs=[x, input])\n",
    "  x = base_model(x)\n",
    " # k = tf.keras.backend.constant(np.full((1, 960), 1+(0.05*i) ), 'float32')\n",
    "  x = layers.GlobalAveragePooling2D()(x)\n",
    "  #x = layers.multiply(inputs=[x, k])\n",
    "  #print(x.shape)\n",
    "  return x\n",
    "if mono:\n",
    "   # inputLayer = layers.Input(shape=full_input_shape)\n",
    "    layer = models.Sequential()\n",
    "    layer.add(layers.TimeDistributed(cnn, input_shape=full_input_shape))\n",
    "    layer.add(layers.GRU(nbr_frame, return_sequences=True))\n",
    "    layer.add(layers.TimeDistributed(layers.Dense(nbr_frame, activation='relu')))\n",
    "    layer.add(layers.Flatten())\n",
    "  #  layer.add(layers.Dense(460, activation='sigmoid'))\n",
    "  #  layer.add(layers.Dropout(0.1))\n",
    "    layer.add(layers.Dense(420, activation='relu'))\n",
    "    layer.add(layers.Dropout(0.1))\n",
    "    layer.add(layers.Dense(120, activation='sigmoid'))\n",
    "    layer.add(layers.Dropout(0.1))\n",
    "    layer.add(layers.Dense(num_classes, activation=\"sigmoid\"))\n",
    "else:\n",
    "    input1 = layers.Input(shape = input_shape, name = 'input1')\n",
    "#    input1 = tf.transpose(input1, perm=[0, 3, 2, 1])\n",
    "    input2 = layers.Input(shape = input_shape, name = 'input2')\n",
    "    input3 = layers.Input(shape = input_shape, name = 'input3')\n",
    "    input4 = layers.Input(shape = input_shape, name = 'input4')\n",
    "    input5 = layers.Input(shape = input_shape, name = 'input5')\n",
    "    input6 = layers.Input(shape = input_shape, name = 'input6')\n",
    "    input7 = layers.Input(shape = input_shape, name = 'input7')\n",
    "    input8 = layers.Input(shape = input_shape, name = 'input8')\n",
    "    #avg = layers.average(inputs=[input1, input2, input3, input4, input5, input6])#, input7, input8])\n",
    "    layer1 = filters(input1, 1)\n",
    "    layer2 = filters(input2, 2)\n",
    "    layer3 = filters(input3, 3)\n",
    "    layer4 = filters(input4, 4)\n",
    "    layer5 = filters(input5, 5)\n",
    "    layer6 = filters(input6, 6)\n",
    "    layer7 = filters(input7, 7)\n",
    "    layer8 = filters(input8, 8)\n",
    "    layer = layers.concatenate([layer1, layer2, layer3, layer4,\n",
    "                                layer5, layer6\n",
    "                                , layer7, layer8\n",
    "                                ])\n",
    " #   layer = layer1\n",
    "   # print(layer.shape)\n",
    "   # layer = layers.Reshape((169, 960))(layer)\n",
    "   # print(layer.shape)\n",
    "    #layer = layers.GRU(nbr_frame, return_sequences=True, use_cudnn=False, stateful=True)(layer)\n",
    "   # print(layer.shape)\n",
    "    layer = layers.Flatten()(layer)\n",
    "\n",
    "    layer = layers.Dense(120, activation='sigmoid')(layer)\n",
    "    layer = layers.Dropout(0.1)(layer)\n",
    "    layer = layers.Dense(64, activation='relu')(layer)\n",
    "    layer = layers.Dropout(0.1)(layer)\n",
    "    layer = layers.Dense(20, activation='sigmoid')(layer)\n",
    "    layer = layers.Dropout(0.1)(layer)\n",
    "    layer = layers.Dense(num_classes, activation=\"sigmoid\")(layer)\n",
    "    print(layer.shape)"
   ],
   "outputs": [
    {
     "name": "stderr",
     "output_type": "stream",
     "text": [
      "2024-10-29 22:58:19.955001: E external/local_xla/xla/stream_executor/cuda/cuda_driver.cc:152] failed call to cuInit: INTERNAL: CUDA error: Failed call to cuInit: CUDA_ERROR_NO_DEVICE: no CUDA-capable device is detected\n"
     ]
    },
    {
     "name": "stdout",
     "output_type": "stream",
     "text": [
      "(None, 2)\n"
     ]
    }
   ],
   "execution_count": 12
  },
  {
   "cell_type": "code",
   "metadata": {
    "id": "skIx72LBb5t4",
    "ExecuteTime": {
     "end_time": "2024-10-29T21:58:23.755712Z",
     "start_time": "2024-10-29T21:58:23.746562Z"
    }
   },
   "source": [
    "if False:\n",
    "  v=filters(input2, 1)\n",
    "  m=models.Model([input1, input2, input3, input4,\n",
    "                          input5, input6,\n",
    "                          ], v)\n",
    "  m.compile(\n",
    "      loss=loss,\n",
    "      optimizer= adam,\n",
    "      metrics=metrics\n",
    "  )\n",
    "  #m.summary()\n",
    "  f = m.predict([_fights_train[0], _fights_train[1], _fights_train[2],\n",
    "            _fights_train[3], _fights_train[4], _fights_train[5]])\n",
    "  def fix(img):\n",
    "    return (img+1)*128\n",
    "  print(_fights_train[4].shape)\n",
    "  cv2_imshow(fix(f[4]))\n",
    "  cv2_imshow(fix(_fights_train[0][4]))\n",
    "  cv2_imshow(fix(_fights_train[1][4]))\n",
    "  cv2_imshow(fix(_fights_train[2][4]))\n",
    "  cv2_imshow(fix(_fights_train[3][4]))\n",
    "  cv2_imshow(fix(_fights_train[4][4]))\n",
    "  cv2_imshow(fix(_fights_train[5][4]))"
   ],
   "outputs": [],
   "execution_count": 13
  },
  {
   "cell_type": "code",
   "metadata": {
    "colab": {
     "base_uri": "https://localhost:8080/",
     "height": 1000
    },
    "id": "IB3ym7VNGkQz",
    "outputId": "77b259c5-69c9-42cb-9bec-11de56697614",
    "ExecuteTime": {
     "end_time": "2024-10-29T21:58:23.901805Z",
     "start_time": "2024-10-29T21:58:23.809531Z"
    }
   },
   "source": [
    "adam = optimizers.Adam(beta_1=0.9, beta_2=0.999, epsilon=1e-08)\n",
    "rms = optimizers.RMSprop()\n",
    "metrics = [tf.keras.metrics.CategoricalAccuracy('accuracy', dtype=tf.float32)]\n",
    "loss = tf.keras.losses.CategoricalCrossentropy()\n",
    "\n",
    "if mono:\n",
    "  model = layer\n",
    "else:\n",
    "  model = models.Model([input1, input2, input3, input4,\n",
    "                        input5, input6\n",
    "                        , input7, input8\n",
    "                        ], layer)\n",
    "#model = models.Model([input1], layer)\n",
    "model.compile(\n",
    "    loss=loss,\n",
    "    optimizer= adam,\n",
    "    metrics=metrics\n",
    ")\n",
    "model.summary()"
   ],
   "outputs": [
    {
     "data": {
      "text/plain": [
       "\u001B[1mModel: \"functional\"\u001B[0m\n"
      ],
      "text/html": [
       "<pre style=\"white-space:pre;overflow-x:auto;line-height:normal;font-family:Menlo,'DejaVu Sans Mono',consolas,'Courier New',monospace\"><span style=\"font-weight: bold\">Model: \"functional\"</span>\n",
       "</pre>\n"
      ]
     },
     "metadata": {},
     "output_type": "display_data"
    },
    {
     "data": {
      "text/plain": [
       "┏━━━━━━━━━━━━━━━━━━━━━┳━━━━━━━━━━━━━━━━━━━┳━━━━━━━━━━━━┳━━━━━━━━━━━━━━━━━━━┓\n",
       "┃\u001B[1m \u001B[0m\u001B[1mLayer (type)       \u001B[0m\u001B[1m \u001B[0m┃\u001B[1m \u001B[0m\u001B[1mOutput Shape     \u001B[0m\u001B[1m \u001B[0m┃\u001B[1m \u001B[0m\u001B[1m   Param #\u001B[0m\u001B[1m \u001B[0m┃\u001B[1m \u001B[0m\u001B[1mConnected to     \u001B[0m\u001B[1m \u001B[0m┃\n",
       "┡━━━━━━━━━━━━━━━━━━━━━╇━━━━━━━━━━━━━━━━━━━╇━━━━━━━━━━━━╇━━━━━━━━━━━━━━━━━━━┩\n",
       "│ input1 (\u001B[38;5;33mInputLayer\u001B[0m) │ (\u001B[38;5;45mNone\u001B[0m, \u001B[38;5;34m3\u001B[0m, \u001B[38;5;34m300\u001B[0m,    │          \u001B[38;5;34m0\u001B[0m │ -                 │\n",
       "│                     │ \u001B[38;5;34m420\u001B[0m)              │            │                   │\n",
       "├─────────────────────┼───────────────────┼────────────┼───────────────────┤\n",
       "│ input2 (\u001B[38;5;33mInputLayer\u001B[0m) │ (\u001B[38;5;45mNone\u001B[0m, \u001B[38;5;34m3\u001B[0m, \u001B[38;5;34m300\u001B[0m,    │          \u001B[38;5;34m0\u001B[0m │ -                 │\n",
       "│                     │ \u001B[38;5;34m420\u001B[0m)              │            │                   │\n",
       "├─────────────────────┼───────────────────┼────────────┼───────────────────┤\n",
       "│ input3 (\u001B[38;5;33mInputLayer\u001B[0m) │ (\u001B[38;5;45mNone\u001B[0m, \u001B[38;5;34m3\u001B[0m, \u001B[38;5;34m300\u001B[0m,    │          \u001B[38;5;34m0\u001B[0m │ -                 │\n",
       "│                     │ \u001B[38;5;34m420\u001B[0m)              │            │                   │\n",
       "├─────────────────────┼───────────────────┼────────────┼───────────────────┤\n",
       "│ input4 (\u001B[38;5;33mInputLayer\u001B[0m) │ (\u001B[38;5;45mNone\u001B[0m, \u001B[38;5;34m3\u001B[0m, \u001B[38;5;34m300\u001B[0m,    │          \u001B[38;5;34m0\u001B[0m │ -                 │\n",
       "│                     │ \u001B[38;5;34m420\u001B[0m)              │            │                   │\n",
       "├─────────────────────┼───────────────────┼────────────┼───────────────────┤\n",
       "│ input5 (\u001B[38;5;33mInputLayer\u001B[0m) │ (\u001B[38;5;45mNone\u001B[0m, \u001B[38;5;34m3\u001B[0m, \u001B[38;5;34m300\u001B[0m,    │          \u001B[38;5;34m0\u001B[0m │ -                 │\n",
       "│                     │ \u001B[38;5;34m420\u001B[0m)              │            │                   │\n",
       "├─────────────────────┼───────────────────┼────────────┼───────────────────┤\n",
       "│ input6 (\u001B[38;5;33mInputLayer\u001B[0m) │ (\u001B[38;5;45mNone\u001B[0m, \u001B[38;5;34m3\u001B[0m, \u001B[38;5;34m300\u001B[0m,    │          \u001B[38;5;34m0\u001B[0m │ -                 │\n",
       "│                     │ \u001B[38;5;34m420\u001B[0m)              │            │                   │\n",
       "├─────────────────────┼───────────────────┼────────────┼───────────────────┤\n",
       "│ input7 (\u001B[38;5;33mInputLayer\u001B[0m) │ (\u001B[38;5;45mNone\u001B[0m, \u001B[38;5;34m3\u001B[0m, \u001B[38;5;34m300\u001B[0m,    │          \u001B[38;5;34m0\u001B[0m │ -                 │\n",
       "│                     │ \u001B[38;5;34m420\u001B[0m)              │            │                   │\n",
       "├─────────────────────┼───────────────────┼────────────┼───────────────────┤\n",
       "│ input8 (\u001B[38;5;33mInputLayer\u001B[0m) │ (\u001B[38;5;45mNone\u001B[0m, \u001B[38;5;34m3\u001B[0m, \u001B[38;5;34m300\u001B[0m,    │          \u001B[38;5;34m0\u001B[0m │ -                 │\n",
       "│                     │ \u001B[38;5;34m420\u001B[0m)              │            │                   │\n",
       "├─────────────────────┼───────────────────┼────────────┼───────────────────┤\n",
       "│ efficientnetb0      │ (\u001B[38;5;45mNone\u001B[0m, \u001B[38;5;34m1280\u001B[0m, \u001B[38;5;34m10\u001B[0m,  │  \u001B[38;5;34m4,049,571\u001B[0m │ input1[\u001B[38;5;34m0\u001B[0m][\u001B[38;5;34m0\u001B[0m],     │\n",
       "│ (\u001B[38;5;33mFunctional\u001B[0m)        │ \u001B[38;5;34m14\u001B[0m)               │            │ input2[\u001B[38;5;34m0\u001B[0m][\u001B[38;5;34m0\u001B[0m],     │\n",
       "│                     │                   │            │ input3[\u001B[38;5;34m0\u001B[0m][\u001B[38;5;34m0\u001B[0m],     │\n",
       "│                     │                   │            │ input4[\u001B[38;5;34m0\u001B[0m][\u001B[38;5;34m0\u001B[0m],     │\n",
       "│                     │                   │            │ input5[\u001B[38;5;34m0\u001B[0m][\u001B[38;5;34m0\u001B[0m],     │\n",
       "│                     │                   │            │ input6[\u001B[38;5;34m0\u001B[0m][\u001B[38;5;34m0\u001B[0m],     │\n",
       "│                     │                   │            │ input7[\u001B[38;5;34m0\u001B[0m][\u001B[38;5;34m0\u001B[0m],     │\n",
       "│                     │                   │            │ input8[\u001B[38;5;34m0\u001B[0m][\u001B[38;5;34m0\u001B[0m]      │\n",
       "├─────────────────────┼───────────────────┼────────────┼───────────────────┤\n",
       "│ global_average_poo… │ (\u001B[38;5;45mNone\u001B[0m, \u001B[38;5;34m1280\u001B[0m)      │          \u001B[38;5;34m0\u001B[0m │ efficientnetb0[\u001B[38;5;34m0\u001B[0m… │\n",
       "│ (\u001B[38;5;33mGlobalAveragePool…\u001B[0m │                   │            │                   │\n",
       "├─────────────────────┼───────────────────┼────────────┼───────────────────┤\n",
       "│ global_average_poo… │ (\u001B[38;5;45mNone\u001B[0m, \u001B[38;5;34m1280\u001B[0m)      │          \u001B[38;5;34m0\u001B[0m │ efficientnetb0[\u001B[38;5;34m1\u001B[0m… │\n",
       "│ (\u001B[38;5;33mGlobalAveragePool…\u001B[0m │                   │            │                   │\n",
       "├─────────────────────┼───────────────────┼────────────┼───────────────────┤\n",
       "│ global_average_poo… │ (\u001B[38;5;45mNone\u001B[0m, \u001B[38;5;34m1280\u001B[0m)      │          \u001B[38;5;34m0\u001B[0m │ efficientnetb0[\u001B[38;5;34m2\u001B[0m… │\n",
       "│ (\u001B[38;5;33mGlobalAveragePool…\u001B[0m │                   │            │                   │\n",
       "├─────────────────────┼───────────────────┼────────────┼───────────────────┤\n",
       "│ global_average_poo… │ (\u001B[38;5;45mNone\u001B[0m, \u001B[38;5;34m1280\u001B[0m)      │          \u001B[38;5;34m0\u001B[0m │ efficientnetb0[\u001B[38;5;34m3\u001B[0m… │\n",
       "│ (\u001B[38;5;33mGlobalAveragePool…\u001B[0m │                   │            │                   │\n",
       "├─────────────────────┼───────────────────┼────────────┼───────────────────┤\n",
       "│ global_average_poo… │ (\u001B[38;5;45mNone\u001B[0m, \u001B[38;5;34m1280\u001B[0m)      │          \u001B[38;5;34m0\u001B[0m │ efficientnetb0[\u001B[38;5;34m4\u001B[0m… │\n",
       "│ (\u001B[38;5;33mGlobalAveragePool…\u001B[0m │                   │            │                   │\n",
       "├─────────────────────┼───────────────────┼────────────┼───────────────────┤\n",
       "│ global_average_poo… │ (\u001B[38;5;45mNone\u001B[0m, \u001B[38;5;34m1280\u001B[0m)      │          \u001B[38;5;34m0\u001B[0m │ efficientnetb0[\u001B[38;5;34m5\u001B[0m… │\n",
       "│ (\u001B[38;5;33mGlobalAveragePool…\u001B[0m │                   │            │                   │\n",
       "├─────────────────────┼───────────────────┼────────────┼───────────────────┤\n",
       "│ global_average_poo… │ (\u001B[38;5;45mNone\u001B[0m, \u001B[38;5;34m1280\u001B[0m)      │          \u001B[38;5;34m0\u001B[0m │ efficientnetb0[\u001B[38;5;34m6\u001B[0m… │\n",
       "│ (\u001B[38;5;33mGlobalAveragePool…\u001B[0m │                   │            │                   │\n",
       "├─────────────────────┼───────────────────┼────────────┼───────────────────┤\n",
       "│ global_average_poo… │ (\u001B[38;5;45mNone\u001B[0m, \u001B[38;5;34m1280\u001B[0m)      │          \u001B[38;5;34m0\u001B[0m │ efficientnetb0[\u001B[38;5;34m7\u001B[0m… │\n",
       "│ (\u001B[38;5;33mGlobalAveragePool…\u001B[0m │                   │            │                   │\n",
       "├─────────────────────┼───────────────────┼────────────┼───────────────────┤\n",
       "│ concatenate         │ (\u001B[38;5;45mNone\u001B[0m, \u001B[38;5;34m10240\u001B[0m)     │          \u001B[38;5;34m0\u001B[0m │ global_average_p… │\n",
       "│ (\u001B[38;5;33mConcatenate\u001B[0m)       │                   │            │ global_average_p… │\n",
       "│                     │                   │            │ global_average_p… │\n",
       "│                     │                   │            │ global_average_p… │\n",
       "│                     │                   │            │ global_average_p… │\n",
       "│                     │                   │            │ global_average_p… │\n",
       "│                     │                   │            │ global_average_p… │\n",
       "│                     │                   │            │ global_average_p… │\n",
       "├─────────────────────┼───────────────────┼────────────┼───────────────────┤\n",
       "│ flatten (\u001B[38;5;33mFlatten\u001B[0m)   │ (\u001B[38;5;45mNone\u001B[0m, \u001B[38;5;34m10240\u001B[0m)     │          \u001B[38;5;34m0\u001B[0m │ concatenate[\u001B[38;5;34m0\u001B[0m][\u001B[38;5;34m0\u001B[0m] │\n",
       "├─────────────────────┼───────────────────┼────────────┼───────────────────┤\n",
       "│ dense (\u001B[38;5;33mDense\u001B[0m)       │ (\u001B[38;5;45mNone\u001B[0m, \u001B[38;5;34m120\u001B[0m)       │  \u001B[38;5;34m1,228,920\u001B[0m │ flatten[\u001B[38;5;34m0\u001B[0m][\u001B[38;5;34m0\u001B[0m]     │\n",
       "├─────────────────────┼───────────────────┼────────────┼───────────────────┤\n",
       "│ dropout (\u001B[38;5;33mDropout\u001B[0m)   │ (\u001B[38;5;45mNone\u001B[0m, \u001B[38;5;34m120\u001B[0m)       │          \u001B[38;5;34m0\u001B[0m │ dense[\u001B[38;5;34m0\u001B[0m][\u001B[38;5;34m0\u001B[0m]       │\n",
       "├─────────────────────┼───────────────────┼────────────┼───────────────────┤\n",
       "│ dense_1 (\u001B[38;5;33mDense\u001B[0m)     │ (\u001B[38;5;45mNone\u001B[0m, \u001B[38;5;34m64\u001B[0m)        │      \u001B[38;5;34m7,744\u001B[0m │ dropout[\u001B[38;5;34m0\u001B[0m][\u001B[38;5;34m0\u001B[0m]     │\n",
       "├─────────────────────┼───────────────────┼────────────┼───────────────────┤\n",
       "│ dropout_1 (\u001B[38;5;33mDropout\u001B[0m) │ (\u001B[38;5;45mNone\u001B[0m, \u001B[38;5;34m64\u001B[0m)        │          \u001B[38;5;34m0\u001B[0m │ dense_1[\u001B[38;5;34m0\u001B[0m][\u001B[38;5;34m0\u001B[0m]     │\n",
       "├─────────────────────┼───────────────────┼────────────┼───────────────────┤\n",
       "│ dense_2 (\u001B[38;5;33mDense\u001B[0m)     │ (\u001B[38;5;45mNone\u001B[0m, \u001B[38;5;34m20\u001B[0m)        │      \u001B[38;5;34m1,300\u001B[0m │ dropout_1[\u001B[38;5;34m0\u001B[0m][\u001B[38;5;34m0\u001B[0m]   │\n",
       "├─────────────────────┼───────────────────┼────────────┼───────────────────┤\n",
       "│ dropout_2 (\u001B[38;5;33mDropout\u001B[0m) │ (\u001B[38;5;45mNone\u001B[0m, \u001B[38;5;34m20\u001B[0m)        │          \u001B[38;5;34m0\u001B[0m │ dense_2[\u001B[38;5;34m0\u001B[0m][\u001B[38;5;34m0\u001B[0m]     │\n",
       "├─────────────────────┼───────────────────┼────────────┼───────────────────┤\n",
       "│ dense_3 (\u001B[38;5;33mDense\u001B[0m)     │ (\u001B[38;5;45mNone\u001B[0m, \u001B[38;5;34m2\u001B[0m)         │         \u001B[38;5;34m42\u001B[0m │ dropout_2[\u001B[38;5;34m0\u001B[0m][\u001B[38;5;34m0\u001B[0m]   │\n",
       "└─────────────────────┴───────────────────┴────────────┴───────────────────┘\n"
      ],
      "text/html": [
       "<pre style=\"white-space:pre;overflow-x:auto;line-height:normal;font-family:Menlo,'DejaVu Sans Mono',consolas,'Courier New',monospace\">┏━━━━━━━━━━━━━━━━━━━━━┳━━━━━━━━━━━━━━━━━━━┳━━━━━━━━━━━━┳━━━━━━━━━━━━━━━━━━━┓\n",
       "┃<span style=\"font-weight: bold\"> Layer (type)        </span>┃<span style=\"font-weight: bold\"> Output Shape      </span>┃<span style=\"font-weight: bold\">    Param # </span>┃<span style=\"font-weight: bold\"> Connected to      </span>┃\n",
       "┡━━━━━━━━━━━━━━━━━━━━━╇━━━━━━━━━━━━━━━━━━━╇━━━━━━━━━━━━╇━━━━━━━━━━━━━━━━━━━┩\n",
       "│ input1 (<span style=\"color: #0087ff; text-decoration-color: #0087ff\">InputLayer</span>) │ (<span style=\"color: #00d7ff; text-decoration-color: #00d7ff\">None</span>, <span style=\"color: #00af00; text-decoration-color: #00af00\">3</span>, <span style=\"color: #00af00; text-decoration-color: #00af00\">300</span>,    │          <span style=\"color: #00af00; text-decoration-color: #00af00\">0</span> │ -                 │\n",
       "│                     │ <span style=\"color: #00af00; text-decoration-color: #00af00\">420</span>)              │            │                   │\n",
       "├─────────────────────┼───────────────────┼────────────┼───────────────────┤\n",
       "│ input2 (<span style=\"color: #0087ff; text-decoration-color: #0087ff\">InputLayer</span>) │ (<span style=\"color: #00d7ff; text-decoration-color: #00d7ff\">None</span>, <span style=\"color: #00af00; text-decoration-color: #00af00\">3</span>, <span style=\"color: #00af00; text-decoration-color: #00af00\">300</span>,    │          <span style=\"color: #00af00; text-decoration-color: #00af00\">0</span> │ -                 │\n",
       "│                     │ <span style=\"color: #00af00; text-decoration-color: #00af00\">420</span>)              │            │                   │\n",
       "├─────────────────────┼───────────────────┼────────────┼───────────────────┤\n",
       "│ input3 (<span style=\"color: #0087ff; text-decoration-color: #0087ff\">InputLayer</span>) │ (<span style=\"color: #00d7ff; text-decoration-color: #00d7ff\">None</span>, <span style=\"color: #00af00; text-decoration-color: #00af00\">3</span>, <span style=\"color: #00af00; text-decoration-color: #00af00\">300</span>,    │          <span style=\"color: #00af00; text-decoration-color: #00af00\">0</span> │ -                 │\n",
       "│                     │ <span style=\"color: #00af00; text-decoration-color: #00af00\">420</span>)              │            │                   │\n",
       "├─────────────────────┼───────────────────┼────────────┼───────────────────┤\n",
       "│ input4 (<span style=\"color: #0087ff; text-decoration-color: #0087ff\">InputLayer</span>) │ (<span style=\"color: #00d7ff; text-decoration-color: #00d7ff\">None</span>, <span style=\"color: #00af00; text-decoration-color: #00af00\">3</span>, <span style=\"color: #00af00; text-decoration-color: #00af00\">300</span>,    │          <span style=\"color: #00af00; text-decoration-color: #00af00\">0</span> │ -                 │\n",
       "│                     │ <span style=\"color: #00af00; text-decoration-color: #00af00\">420</span>)              │            │                   │\n",
       "├─────────────────────┼───────────────────┼────────────┼───────────────────┤\n",
       "│ input5 (<span style=\"color: #0087ff; text-decoration-color: #0087ff\">InputLayer</span>) │ (<span style=\"color: #00d7ff; text-decoration-color: #00d7ff\">None</span>, <span style=\"color: #00af00; text-decoration-color: #00af00\">3</span>, <span style=\"color: #00af00; text-decoration-color: #00af00\">300</span>,    │          <span style=\"color: #00af00; text-decoration-color: #00af00\">0</span> │ -                 │\n",
       "│                     │ <span style=\"color: #00af00; text-decoration-color: #00af00\">420</span>)              │            │                   │\n",
       "├─────────────────────┼───────────────────┼────────────┼───────────────────┤\n",
       "│ input6 (<span style=\"color: #0087ff; text-decoration-color: #0087ff\">InputLayer</span>) │ (<span style=\"color: #00d7ff; text-decoration-color: #00d7ff\">None</span>, <span style=\"color: #00af00; text-decoration-color: #00af00\">3</span>, <span style=\"color: #00af00; text-decoration-color: #00af00\">300</span>,    │          <span style=\"color: #00af00; text-decoration-color: #00af00\">0</span> │ -                 │\n",
       "│                     │ <span style=\"color: #00af00; text-decoration-color: #00af00\">420</span>)              │            │                   │\n",
       "├─────────────────────┼───────────────────┼────────────┼───────────────────┤\n",
       "│ input7 (<span style=\"color: #0087ff; text-decoration-color: #0087ff\">InputLayer</span>) │ (<span style=\"color: #00d7ff; text-decoration-color: #00d7ff\">None</span>, <span style=\"color: #00af00; text-decoration-color: #00af00\">3</span>, <span style=\"color: #00af00; text-decoration-color: #00af00\">300</span>,    │          <span style=\"color: #00af00; text-decoration-color: #00af00\">0</span> │ -                 │\n",
       "│                     │ <span style=\"color: #00af00; text-decoration-color: #00af00\">420</span>)              │            │                   │\n",
       "├─────────────────────┼───────────────────┼────────────┼───────────────────┤\n",
       "│ input8 (<span style=\"color: #0087ff; text-decoration-color: #0087ff\">InputLayer</span>) │ (<span style=\"color: #00d7ff; text-decoration-color: #00d7ff\">None</span>, <span style=\"color: #00af00; text-decoration-color: #00af00\">3</span>, <span style=\"color: #00af00; text-decoration-color: #00af00\">300</span>,    │          <span style=\"color: #00af00; text-decoration-color: #00af00\">0</span> │ -                 │\n",
       "│                     │ <span style=\"color: #00af00; text-decoration-color: #00af00\">420</span>)              │            │                   │\n",
       "├─────────────────────┼───────────────────┼────────────┼───────────────────┤\n",
       "│ efficientnetb0      │ (<span style=\"color: #00d7ff; text-decoration-color: #00d7ff\">None</span>, <span style=\"color: #00af00; text-decoration-color: #00af00\">1280</span>, <span style=\"color: #00af00; text-decoration-color: #00af00\">10</span>,  │  <span style=\"color: #00af00; text-decoration-color: #00af00\">4,049,571</span> │ input1[<span style=\"color: #00af00; text-decoration-color: #00af00\">0</span>][<span style=\"color: #00af00; text-decoration-color: #00af00\">0</span>],     │\n",
       "│ (<span style=\"color: #0087ff; text-decoration-color: #0087ff\">Functional</span>)        │ <span style=\"color: #00af00; text-decoration-color: #00af00\">14</span>)               │            │ input2[<span style=\"color: #00af00; text-decoration-color: #00af00\">0</span>][<span style=\"color: #00af00; text-decoration-color: #00af00\">0</span>],     │\n",
       "│                     │                   │            │ input3[<span style=\"color: #00af00; text-decoration-color: #00af00\">0</span>][<span style=\"color: #00af00; text-decoration-color: #00af00\">0</span>],     │\n",
       "│                     │                   │            │ input4[<span style=\"color: #00af00; text-decoration-color: #00af00\">0</span>][<span style=\"color: #00af00; text-decoration-color: #00af00\">0</span>],     │\n",
       "│                     │                   │            │ input5[<span style=\"color: #00af00; text-decoration-color: #00af00\">0</span>][<span style=\"color: #00af00; text-decoration-color: #00af00\">0</span>],     │\n",
       "│                     │                   │            │ input6[<span style=\"color: #00af00; text-decoration-color: #00af00\">0</span>][<span style=\"color: #00af00; text-decoration-color: #00af00\">0</span>],     │\n",
       "│                     │                   │            │ input7[<span style=\"color: #00af00; text-decoration-color: #00af00\">0</span>][<span style=\"color: #00af00; text-decoration-color: #00af00\">0</span>],     │\n",
       "│                     │                   │            │ input8[<span style=\"color: #00af00; text-decoration-color: #00af00\">0</span>][<span style=\"color: #00af00; text-decoration-color: #00af00\">0</span>]      │\n",
       "├─────────────────────┼───────────────────┼────────────┼───────────────────┤\n",
       "│ global_average_poo… │ (<span style=\"color: #00d7ff; text-decoration-color: #00d7ff\">None</span>, <span style=\"color: #00af00; text-decoration-color: #00af00\">1280</span>)      │          <span style=\"color: #00af00; text-decoration-color: #00af00\">0</span> │ efficientnetb0[<span style=\"color: #00af00; text-decoration-color: #00af00\">0</span>… │\n",
       "│ (<span style=\"color: #0087ff; text-decoration-color: #0087ff\">GlobalAveragePool…</span> │                   │            │                   │\n",
       "├─────────────────────┼───────────────────┼────────────┼───────────────────┤\n",
       "│ global_average_poo… │ (<span style=\"color: #00d7ff; text-decoration-color: #00d7ff\">None</span>, <span style=\"color: #00af00; text-decoration-color: #00af00\">1280</span>)      │          <span style=\"color: #00af00; text-decoration-color: #00af00\">0</span> │ efficientnetb0[<span style=\"color: #00af00; text-decoration-color: #00af00\">1</span>… │\n",
       "│ (<span style=\"color: #0087ff; text-decoration-color: #0087ff\">GlobalAveragePool…</span> │                   │            │                   │\n",
       "├─────────────────────┼───────────────────┼────────────┼───────────────────┤\n",
       "│ global_average_poo… │ (<span style=\"color: #00d7ff; text-decoration-color: #00d7ff\">None</span>, <span style=\"color: #00af00; text-decoration-color: #00af00\">1280</span>)      │          <span style=\"color: #00af00; text-decoration-color: #00af00\">0</span> │ efficientnetb0[<span style=\"color: #00af00; text-decoration-color: #00af00\">2</span>… │\n",
       "│ (<span style=\"color: #0087ff; text-decoration-color: #0087ff\">GlobalAveragePool…</span> │                   │            │                   │\n",
       "├─────────────────────┼───────────────────┼────────────┼───────────────────┤\n",
       "│ global_average_poo… │ (<span style=\"color: #00d7ff; text-decoration-color: #00d7ff\">None</span>, <span style=\"color: #00af00; text-decoration-color: #00af00\">1280</span>)      │          <span style=\"color: #00af00; text-decoration-color: #00af00\">0</span> │ efficientnetb0[<span style=\"color: #00af00; text-decoration-color: #00af00\">3</span>… │\n",
       "│ (<span style=\"color: #0087ff; text-decoration-color: #0087ff\">GlobalAveragePool…</span> │                   │            │                   │\n",
       "├─────────────────────┼───────────────────┼────────────┼───────────────────┤\n",
       "│ global_average_poo… │ (<span style=\"color: #00d7ff; text-decoration-color: #00d7ff\">None</span>, <span style=\"color: #00af00; text-decoration-color: #00af00\">1280</span>)      │          <span style=\"color: #00af00; text-decoration-color: #00af00\">0</span> │ efficientnetb0[<span style=\"color: #00af00; text-decoration-color: #00af00\">4</span>… │\n",
       "│ (<span style=\"color: #0087ff; text-decoration-color: #0087ff\">GlobalAveragePool…</span> │                   │            │                   │\n",
       "├─────────────────────┼───────────────────┼────────────┼───────────────────┤\n",
       "│ global_average_poo… │ (<span style=\"color: #00d7ff; text-decoration-color: #00d7ff\">None</span>, <span style=\"color: #00af00; text-decoration-color: #00af00\">1280</span>)      │          <span style=\"color: #00af00; text-decoration-color: #00af00\">0</span> │ efficientnetb0[<span style=\"color: #00af00; text-decoration-color: #00af00\">5</span>… │\n",
       "│ (<span style=\"color: #0087ff; text-decoration-color: #0087ff\">GlobalAveragePool…</span> │                   │            │                   │\n",
       "├─────────────────────┼───────────────────┼────────────┼───────────────────┤\n",
       "│ global_average_poo… │ (<span style=\"color: #00d7ff; text-decoration-color: #00d7ff\">None</span>, <span style=\"color: #00af00; text-decoration-color: #00af00\">1280</span>)      │          <span style=\"color: #00af00; text-decoration-color: #00af00\">0</span> │ efficientnetb0[<span style=\"color: #00af00; text-decoration-color: #00af00\">6</span>… │\n",
       "│ (<span style=\"color: #0087ff; text-decoration-color: #0087ff\">GlobalAveragePool…</span> │                   │            │                   │\n",
       "├─────────────────────┼───────────────────┼────────────┼───────────────────┤\n",
       "│ global_average_poo… │ (<span style=\"color: #00d7ff; text-decoration-color: #00d7ff\">None</span>, <span style=\"color: #00af00; text-decoration-color: #00af00\">1280</span>)      │          <span style=\"color: #00af00; text-decoration-color: #00af00\">0</span> │ efficientnetb0[<span style=\"color: #00af00; text-decoration-color: #00af00\">7</span>… │\n",
       "│ (<span style=\"color: #0087ff; text-decoration-color: #0087ff\">GlobalAveragePool…</span> │                   │            │                   │\n",
       "├─────────────────────┼───────────────────┼────────────┼───────────────────┤\n",
       "│ concatenate         │ (<span style=\"color: #00d7ff; text-decoration-color: #00d7ff\">None</span>, <span style=\"color: #00af00; text-decoration-color: #00af00\">10240</span>)     │          <span style=\"color: #00af00; text-decoration-color: #00af00\">0</span> │ global_average_p… │\n",
       "│ (<span style=\"color: #0087ff; text-decoration-color: #0087ff\">Concatenate</span>)       │                   │            │ global_average_p… │\n",
       "│                     │                   │            │ global_average_p… │\n",
       "│                     │                   │            │ global_average_p… │\n",
       "│                     │                   │            │ global_average_p… │\n",
       "│                     │                   │            │ global_average_p… │\n",
       "│                     │                   │            │ global_average_p… │\n",
       "│                     │                   │            │ global_average_p… │\n",
       "├─────────────────────┼───────────────────┼────────────┼───────────────────┤\n",
       "│ flatten (<span style=\"color: #0087ff; text-decoration-color: #0087ff\">Flatten</span>)   │ (<span style=\"color: #00d7ff; text-decoration-color: #00d7ff\">None</span>, <span style=\"color: #00af00; text-decoration-color: #00af00\">10240</span>)     │          <span style=\"color: #00af00; text-decoration-color: #00af00\">0</span> │ concatenate[<span style=\"color: #00af00; text-decoration-color: #00af00\">0</span>][<span style=\"color: #00af00; text-decoration-color: #00af00\">0</span>] │\n",
       "├─────────────────────┼───────────────────┼────────────┼───────────────────┤\n",
       "│ dense (<span style=\"color: #0087ff; text-decoration-color: #0087ff\">Dense</span>)       │ (<span style=\"color: #00d7ff; text-decoration-color: #00d7ff\">None</span>, <span style=\"color: #00af00; text-decoration-color: #00af00\">120</span>)       │  <span style=\"color: #00af00; text-decoration-color: #00af00\">1,228,920</span> │ flatten[<span style=\"color: #00af00; text-decoration-color: #00af00\">0</span>][<span style=\"color: #00af00; text-decoration-color: #00af00\">0</span>]     │\n",
       "├─────────────────────┼───────────────────┼────────────┼───────────────────┤\n",
       "│ dropout (<span style=\"color: #0087ff; text-decoration-color: #0087ff\">Dropout</span>)   │ (<span style=\"color: #00d7ff; text-decoration-color: #00d7ff\">None</span>, <span style=\"color: #00af00; text-decoration-color: #00af00\">120</span>)       │          <span style=\"color: #00af00; text-decoration-color: #00af00\">0</span> │ dense[<span style=\"color: #00af00; text-decoration-color: #00af00\">0</span>][<span style=\"color: #00af00; text-decoration-color: #00af00\">0</span>]       │\n",
       "├─────────────────────┼───────────────────┼────────────┼───────────────────┤\n",
       "│ dense_1 (<span style=\"color: #0087ff; text-decoration-color: #0087ff\">Dense</span>)     │ (<span style=\"color: #00d7ff; text-decoration-color: #00d7ff\">None</span>, <span style=\"color: #00af00; text-decoration-color: #00af00\">64</span>)        │      <span style=\"color: #00af00; text-decoration-color: #00af00\">7,744</span> │ dropout[<span style=\"color: #00af00; text-decoration-color: #00af00\">0</span>][<span style=\"color: #00af00; text-decoration-color: #00af00\">0</span>]     │\n",
       "├─────────────────────┼───────────────────┼────────────┼───────────────────┤\n",
       "│ dropout_1 (<span style=\"color: #0087ff; text-decoration-color: #0087ff\">Dropout</span>) │ (<span style=\"color: #00d7ff; text-decoration-color: #00d7ff\">None</span>, <span style=\"color: #00af00; text-decoration-color: #00af00\">64</span>)        │          <span style=\"color: #00af00; text-decoration-color: #00af00\">0</span> │ dense_1[<span style=\"color: #00af00; text-decoration-color: #00af00\">0</span>][<span style=\"color: #00af00; text-decoration-color: #00af00\">0</span>]     │\n",
       "├─────────────────────┼───────────────────┼────────────┼───────────────────┤\n",
       "│ dense_2 (<span style=\"color: #0087ff; text-decoration-color: #0087ff\">Dense</span>)     │ (<span style=\"color: #00d7ff; text-decoration-color: #00d7ff\">None</span>, <span style=\"color: #00af00; text-decoration-color: #00af00\">20</span>)        │      <span style=\"color: #00af00; text-decoration-color: #00af00\">1,300</span> │ dropout_1[<span style=\"color: #00af00; text-decoration-color: #00af00\">0</span>][<span style=\"color: #00af00; text-decoration-color: #00af00\">0</span>]   │\n",
       "├─────────────────────┼───────────────────┼────────────┼───────────────────┤\n",
       "│ dropout_2 (<span style=\"color: #0087ff; text-decoration-color: #0087ff\">Dropout</span>) │ (<span style=\"color: #00d7ff; text-decoration-color: #00d7ff\">None</span>, <span style=\"color: #00af00; text-decoration-color: #00af00\">20</span>)        │          <span style=\"color: #00af00; text-decoration-color: #00af00\">0</span> │ dense_2[<span style=\"color: #00af00; text-decoration-color: #00af00\">0</span>][<span style=\"color: #00af00; text-decoration-color: #00af00\">0</span>]     │\n",
       "├─────────────────────┼───────────────────┼────────────┼───────────────────┤\n",
       "│ dense_3 (<span style=\"color: #0087ff; text-decoration-color: #0087ff\">Dense</span>)     │ (<span style=\"color: #00d7ff; text-decoration-color: #00d7ff\">None</span>, <span style=\"color: #00af00; text-decoration-color: #00af00\">2</span>)         │         <span style=\"color: #00af00; text-decoration-color: #00af00\">42</span> │ dropout_2[<span style=\"color: #00af00; text-decoration-color: #00af00\">0</span>][<span style=\"color: #00af00; text-decoration-color: #00af00\">0</span>]   │\n",
       "└─────────────────────┴───────────────────┴────────────┴───────────────────┘\n",
       "</pre>\n"
      ]
     },
     "metadata": {},
     "output_type": "display_data"
    },
    {
     "data": {
      "text/plain": [
       "\u001B[1m Total params: \u001B[0m\u001B[38;5;34m5,287,577\u001B[0m (20.17 MB)\n"
      ],
      "text/html": [
       "<pre style=\"white-space:pre;overflow-x:auto;line-height:normal;font-family:Menlo,'DejaVu Sans Mono',consolas,'Courier New',monospace\"><span style=\"font-weight: bold\"> Total params: </span><span style=\"color: #00af00; text-decoration-color: #00af00\">5,287,577</span> (20.17 MB)\n",
       "</pre>\n"
      ]
     },
     "metadata": {},
     "output_type": "display_data"
    },
    {
     "data": {
      "text/plain": [
       "\u001B[1m Trainable params: \u001B[0m\u001B[38;5;34m1,238,006\u001B[0m (4.72 MB)\n"
      ],
      "text/html": [
       "<pre style=\"white-space:pre;overflow-x:auto;line-height:normal;font-family:Menlo,'DejaVu Sans Mono',consolas,'Courier New',monospace\"><span style=\"font-weight: bold\"> Trainable params: </span><span style=\"color: #00af00; text-decoration-color: #00af00\">1,238,006</span> (4.72 MB)\n",
       "</pre>\n"
      ]
     },
     "metadata": {},
     "output_type": "display_data"
    },
    {
     "data": {
      "text/plain": [
       "\u001B[1m Non-trainable params: \u001B[0m\u001B[38;5;34m4,049,571\u001B[0m (15.45 MB)\n"
      ],
      "text/html": [
       "<pre style=\"white-space:pre;overflow-x:auto;line-height:normal;font-family:Menlo,'DejaVu Sans Mono',consolas,'Courier New',monospace\"><span style=\"font-weight: bold\"> Non-trainable params: </span><span style=\"color: #00af00; text-decoration-color: #00af00\">4,049,571</span> (15.45 MB)\n",
       "</pre>\n"
      ]
     },
     "metadata": {},
     "output_type": "display_data"
    }
   ],
   "execution_count": 14
  },
  {
   "cell_type": "code",
   "metadata": {
    "colab": {
     "base_uri": "https://localhost:8080/"
    },
    "id": "rqZYYTIST6_y",
    "outputId": "977e7a2e-e081-4ade-bd83-2d1f1d996d11",
    "ExecuteTime": {
     "end_time": "2024-10-29T21:58:40.760816Z",
     "start_time": "2024-10-29T21:58:24.013169Z"
    }
   },
   "source": [
    "from datetime import datetime\n",
    "now = datetime.now()\n",
    "current_time = now.strftime(\"%H:%M:%S\")\n",
    "print(\"Started at =\", current_time)\n",
    "datasets = [ 'trainm', 'SCVD', 'RWF-2000',  'rvdata']\n",
    "\n",
    "dpages = [ 150, 100, 200,  200]\n",
    "dsizes = [ 150, 100, 800, 1000]\n",
    "nbr_it = 4\n",
    "batch_size = 20\n",
    "epochs = 8\n",
    "for it in range(nbr_it):\n",
    "  print('#### IT '+str(it))\n",
    "  dt_index = 0\n",
    "  for dataset in datasets:\n",
    "    page_size = dpages[dt_index]\n",
    "    size = dsizes[dt_index]\n",
    "    pages = int(size/page_size)\n",
    "    dt_index+=1\n",
    "    for k in range(pages):\n",
    "      fts_train = np.zeros((2*page_size,) + full_input_shape, dtype=np.float32)\n",
    "      labs_train = np.empty(2*page_size, dtype=np.int_)\n",
    "      loadData( dataset, k*page_size, (k+1)*page_size, fts_train, labs_train)\n",
    "      random_state = np.random.randint(1, 100)\n",
    "      X_train, fights_test, y_train, labels_test = train_test_split(fts_train,\n",
    "                          labs_train, test_size=0.2, random_state=random_state)\n",
    "      #print(labs_train)\n",
    "      y_train = utils.to_categorical(labs_train, num_classes=num_classes)\n",
    "      y_test = utils.to_categorical(labels_test, num_classes=num_classes)\n",
    "      from datetime import datetime\n",
    "      import time\n",
    "      millis = int(round(time.time() * 1000))\n",
    "      if mono:\n",
    "        model.fit(fts_train, y_train,\n",
    "                  batch_size=batch_size,\n",
    "                  epochs=epochs,\n",
    "              #    verbose=1,\n",
    "                  validation_data=(fights_test, y_test),\n",
    "                  callbacks=[earlyStopping, reduce_lr_loss,history])\n",
    "      else:\n",
    "        _fights_train = fts_train.transpose(1,0,2,3,4)\n",
    "        _fights_test = fights_test.transpose(1,0,2,3,4)\n",
    "        model.fit([_fights_train[0], _fights_train[1],\n",
    "                   _fights_train[2], _fights_train[3],\n",
    "                   _fights_train[4], _fights_train[5],\n",
    "                   _fights_train[6], _fights_train[7]\n",
    "                   ], y_train,\n",
    "                  batch_size=batch_size,\n",
    "                  epochs=epochs,\n",
    "              #    verbose=1,\n",
    "                  validation_data=([_fights_test[0], _fights_test[1],\n",
    "                                    _fights_test[2], _fights_test[3],\n",
    "                                    _fights_test[4], _fights_test[5],\n",
    "                                    _fights_test[6], _fights_test[7]\n",
    "                                    ], y_test),\n",
    "                  callbacks=[earlyStopping, reduce_lr_loss,history])\n",
    "      print('Savig the model')\n",
    "      #model.save(\"fights\"+str(it)+\".keras\")\n",
    "      model.save(\"drive/My Drive/fights\"+str(it)+\".keras\")\n",
    "      v_input_shape = (1,) + input_shape\n",
    "      input_signature = [tf.TensorSpec(v_input_shape, tf.float32, name='inp1'),\n",
    "                        tf.TensorSpec(v_input_shape, tf.float32, name='inp2'),\n",
    "                        tf.TensorSpec(v_input_shape, tf.float32, name='inp3'),\n",
    "                        tf.TensorSpec(v_input_shape, tf.float32, name='inp4'),\n",
    "                        tf.TensorSpec(v_input_shape, tf.float32, name='inp5'),\n",
    "                        tf.TensorSpec(v_input_shape, tf.float32, name='inp6'),\n",
    "                        tf.TensorSpec(v_input_shape, tf.float32, name='inp7'),\n",
    "                        tf.TensorSpec(v_input_shape, tf.float32, name='inp8'),\n",
    "                        ]\n",
    "      # Use from_function for tf functions\n",
    "      model.output_names=['output']\n",
    "      onnx_model, _ = tf2onnx.convert.from_keras(model, input_signature, opset=18)\n",
    "      onnx.save(onnx_model, \"drive/My Drive/fights_tf\"+str(it)+\".onnx\")\n",
    "      #open(\"drive/My Drive/fights\"+str(it)+\".tflite\", \"wb\").write(tflite_model)\n",
    "\n",
    "    #0.8995 4"
   ],
   "outputs": [
    {
     "name": "stdout",
     "output_type": "stream",
     "text": [
      "Started at = 22:58:24\n",
      "#### IT 0\n",
      "Loading trainm from 0 to 150\n"
     ]
    },
    {
     "ename": "KeyboardInterrupt",
     "evalue": "",
     "output_type": "error",
     "traceback": [
      "\u001B[0;31m---------------------------------------------------------------------------\u001B[0m",
      "\u001B[0;31mKeyboardInterrupt\u001B[0m                         Traceback (most recent call last)",
      "Cell \u001B[0;32mIn[15], line 23\u001B[0m\n\u001B[1;32m     21\u001B[0m fts_train \u001B[38;5;241m=\u001B[39m np\u001B[38;5;241m.\u001B[39mzeros((\u001B[38;5;241m2\u001B[39m\u001B[38;5;241m*\u001B[39mpage_size,) \u001B[38;5;241m+\u001B[39m full_input_shape, dtype\u001B[38;5;241m=\u001B[39mnp\u001B[38;5;241m.\u001B[39mfloat32)\n\u001B[1;32m     22\u001B[0m labs_train \u001B[38;5;241m=\u001B[39m np\u001B[38;5;241m.\u001B[39mempty(\u001B[38;5;241m2\u001B[39m\u001B[38;5;241m*\u001B[39mpage_size, dtype\u001B[38;5;241m=\u001B[39mnp\u001B[38;5;241m.\u001B[39mint_)\n\u001B[0;32m---> 23\u001B[0m \u001B[43mloadData\u001B[49m\u001B[43m(\u001B[49m\u001B[43m \u001B[49m\u001B[43mdataset\u001B[49m\u001B[43m,\u001B[49m\u001B[43m \u001B[49m\u001B[43mk\u001B[49m\u001B[38;5;241;43m*\u001B[39;49m\u001B[43mpage_size\u001B[49m\u001B[43m,\u001B[49m\u001B[43m \u001B[49m\u001B[43m(\u001B[49m\u001B[43mk\u001B[49m\u001B[38;5;241;43m+\u001B[39;49m\u001B[38;5;241;43m1\u001B[39;49m\u001B[43m)\u001B[49m\u001B[38;5;241;43m*\u001B[39;49m\u001B[43mpage_size\u001B[49m\u001B[43m,\u001B[49m\u001B[43m \u001B[49m\u001B[43mfts_train\u001B[49m\u001B[43m,\u001B[49m\u001B[43m \u001B[49m\u001B[43mlabs_train\u001B[49m\u001B[43m)\u001B[49m\n\u001B[1;32m     24\u001B[0m random_state \u001B[38;5;241m=\u001B[39m np\u001B[38;5;241m.\u001B[39mrandom\u001B[38;5;241m.\u001B[39mrandint(\u001B[38;5;241m1\u001B[39m, \u001B[38;5;241m100\u001B[39m)\n\u001B[1;32m     25\u001B[0m X_train, fights_test, y_train, labels_test \u001B[38;5;241m=\u001B[39m train_test_split(fts_train,\n\u001B[1;32m     26\u001B[0m                     labs_train, test_size\u001B[38;5;241m=\u001B[39m\u001B[38;5;241m0.2\u001B[39m, random_state\u001B[38;5;241m=\u001B[39mrandom_state)\n",
      "Cell \u001B[0;32mIn[11], line 42\u001B[0m, in \u001B[0;36mloadData\u001B[0;34m(dataset, ist, ito, fts_train, labs_train)\u001B[0m\n\u001B[1;32m     40\u001B[0m \u001B[38;5;28;01mif\u001B[39;00m n\u001B[38;5;241m>\u001B[39m\u001B[38;5;241m=\u001B[39mito:\n\u001B[1;32m     41\u001B[0m   \u001B[38;5;28;01mbreak\u001B[39;00m\n\u001B[0;32m---> 42\u001B[0m videos \u001B[38;5;241m=\u001B[39m \u001B[43mcapture\u001B[49m\u001B[43m(\u001B[49m\u001B[43mfl\u001B[49m\u001B[43m)\u001B[49m\n\u001B[1;32m     43\u001B[0m fts_train[i][:][:] \u001B[38;5;241m=\u001B[39m videos\n\u001B[1;32m     44\u001B[0m labs_train[i] \u001B[38;5;241m=\u001B[39m violence\n",
      "Cell \u001B[0;32mIn[8], line 24\u001B[0m, in \u001B[0;36mcapture\u001B[0;34m(filename)\u001B[0m\n\u001B[1;32m     22\u001B[0m     frames[i][:] \u001B[38;5;241m=\u001B[39m frm\n\u001B[1;32m     23\u001B[0m     i \u001B[38;5;241m+\u001B[39m\u001B[38;5;241m=\u001B[39m\u001B[38;5;241m1\u001B[39m\n\u001B[0;32m---> 24\u001B[0m     \u001B[38;5;28;01mif\u001B[39;00m i\u001B[38;5;241m==\u001B[39m(nbr_frame\u001B[38;5;241m*\u001B[39m\u001B[38;5;241m30\u001B[39m):\n\u001B[1;32m     25\u001B[0m         \u001B[38;5;28;01mbreak\u001B[39;00m\n\u001B[1;32m     26\u001B[0m vc\u001B[38;5;241m.\u001B[39mrelease()\n",
      "\u001B[0;31mKeyboardInterrupt\u001B[0m: "
     ]
    }
   ],
   "execution_count": 15
  },
  {
   "cell_type": "code",
   "source": [
    "model.save(\"fights\"+str(it)+\".keras\")"
   ],
   "metadata": {
    "id": "dpZYhp0FWKPE"
   },
   "execution_count": null,
   "outputs": []
  },
  {
   "cell_type": "code",
   "execution_count": null,
   "metadata": {
    "id": "UspnOh-lT6_y"
   },
   "outputs": [],
   "source": [
    "# This is important, let's fix the input size.\n",
    "v_input_shape = (0,) + full_input_shape"
   ]
  },
  {
   "cell_type": "code",
   "execution_count": null,
   "metadata": {
    "id": "EXTdQ_UNsB_V"
   },
   "outputs": [],
   "source": [
    "#model = tf.keras.models.load_model('fights.keras')"
   ]
  },
  {
   "cell_type": "code",
   "source": [
    "!ls -l -a /tmp"
   ],
   "metadata": {
    "id": "BuMqObZ54Nhw"
   },
   "execution_count": null,
   "outputs": []
  },
  {
   "cell_type": "code",
   "metadata": {
    "id": "q3bEUF3fsB_V",
    "colab": {
     "base_uri": "https://localhost:8080/",
     "height": 1000
    },
    "outputId": "e89e063c-cccf-4f94-ddf3-004a49f42557"
   },
   "source": [
    "  converter = tf.lite.TFLiteConverter.from_keras_model(model)\n",
    "  converter.target_spec.supported_ops = [\n",
    "    #tf.lite.OpsSet.TFLITE_BUILTINS, # enable TensorFlow Lite ops.\n",
    "    #tf.lite.OpsSet.SELECT_TF_OPS # enable TensorFlow ops.\n",
    "  ]\n",
    "  converter.experimental_new_converter = True\n",
    "  converter.experimental_enable_resource_variables = True\n",
    "  tflite_model = converter.convert()\n",
    "  #open(\"fights\"+str(it)+\".tflite\", \"wb\").write(tflite_model)\n",
    "  print('ff')\n",
    "  open(\"fights.tflite\", \"wb\").write(tflite_model)\n",
    "  #open(\"drive/My Drive/fights.tflite\", \"wb\").write(tflite_model)"
   ],
   "outputs": [],
   "execution_count": null
  },
  {
   "cell_type": "code",
   "execution_count": null,
   "metadata": {
    "id": "esOEFZV8URjc"
   },
   "outputs": [],
   "source": [
    "#model = tf.keras.models.load_model('fights.keras')\n",
    "interpreter = tf.lite.Interpreter(model_path='fights.tflite')\n",
    "interpreter.allocate_tensors()\n",
    "input_details = interpreter.get_input_details()\n",
    "output_details = interpreter.get_output_details()"
   ]
  },
  {
   "cell_type": "code",
   "execution_count": null,
   "metadata": {
    "id": "1OvH1ca1URjd"
   },
   "outputs": [],
   "source": [
    "import sys\n",
    "import rknn.api"
   ]
  },
  {
   "cell_type": "code",
   "execution_count": null,
   "metadata": {
    "id": "LTEcaUTgsB_V"
   },
   "outputs": [],
   "source": [
    "TEST_CASES = 10\n",
    "rknn = RKNN(verbose=True)\n",
    "ret = rknn.init_runtime()\n",
    "rknn.load_rknn('fights.rknn')\n",
    "for i in range(TEST_CASES):\n",
    "  inputs = [np.expand_dims(_fights_train[0][i], 0),\n",
    "                            np.expand_dims(_fights_train[1][i], 0),\n",
    "                            np.expand_dims(_fights_train[2][i], 0),\n",
    "                            np.expand_dims(_fights_train[3][i], 0),\n",
    "                            np.expand_dims(_fights_train[4][i], 0),\n",
    "                            np.expand_dims(_fights_train[5][i], 0),\n",
    "                            np.expand_dims(_fights_train[6][i], 0),\n",
    "                            np.expand_dims(_fights_train[7][i], 0),]\n",
    "  outputs = rknn.inference(inputs=inputs, data_format=['nhwc'])\n",
    "  expected = model.predict([np.expand_dims(_fights_train[0][i], 0),\n",
    "                            np.expand_dims(_fights_train[1][i], 0),\n",
    "                            np.expand_dims(_fights_train[2][i], 0),\n",
    "                            np.expand_dims(_fights_train[3][i], 0),\n",
    "                            np.expand_dims(_fights_train[4][i], 0),\n",
    "                            np.expand_dims(_fights_train[5][i], 0),\n",
    "                            np.expand_dims(_fights_train[6][i], 0),\n",
    "                            np.expand_dims(_fights_train[7][i], 0),])\n",
    "  for j in range(8):\n",
    "    interpreter.set_tensor(input_details[j]['index'], np.expand_dims(_fights_train[j][i], 0))\n",
    "  interpreter.invoke()\n",
    "  result = interpreter.get_tensor(output_details[0][\"index\"])\n",
    "  print(expected)\n",
    "  print(outputs)\n",
    "  print(result)\n",
    "  #np.testing.assert_almost_equal(expected, result, decimal=5)\n",
    "  print(\"Done. The result of TensorFlow matches the result of TensorFlow Lite.\")\n",
    "  # Please note: TfLite fused Lstm kernel is stateful, so we need to reset\n",
    "  # the states.\n",
    "  # Clean up internal states.\n",
    "  interpreter.reset_all_variables()"
   ]
  },
  {
   "cell_type": "code",
   "execution_count": null,
   "metadata": {
    "id": "zIem8Ndw2a1L"
   },
   "outputs": [],
   "source": [
    "!pip install git+https://github.com/onnx/tensorflow-onnx"
   ]
  },
  {
   "cell_type": "code",
   "execution_count": null,
   "metadata": {
    "id": "UgVI1_yjsB_W"
   },
   "outputs": [],
   "source": [
    "model = tf.keras.models.load_model('fights0.keras')"
   ]
  },
  {
   "cell_type": "code",
   "execution_count": null,
   "metadata": {
    "id": "aeNU3S6ExZgi"
   },
   "outputs": [],
   "source": [
    "!pip install git+https://github.com/onnx/tensorflow-onnx"
   ]
  },
  {
   "cell_type": "code",
   "metadata": {
    "id": "V-8gpO-QsB_W",
    "ExecuteTime": {
     "end_time": "2024-10-29T21:58:53.332022Z",
     "start_time": "2024-10-29T21:58:52.930977Z"
    }
   },
   "source": [
    "import tf2onnx\n",
    "import onnx"
   ],
   "outputs": [],
   "execution_count": 16
  },
  {
   "cell_type": "code",
   "metadata": {
    "id": "ylY-XypB0ihf",
    "colab": {
     "base_uri": "https://localhost:8080/"
    },
    "outputId": "a875f51f-d41f-49ba-f0ae-ac96a0d6fa8c",
    "ExecuteTime": {
     "end_time": "2024-10-29T21:59:07.696369Z",
     "start_time": "2024-10-29T21:58:54.815659Z"
    }
   },
   "source": [
    "v_input_shape = (1,) + input_shape\n",
    "print(v_input_shape)\n",
    "input_signature = [tf.TensorSpec(v_input_shape, tf.float32, name='inp1'),\n",
    "                 #  tf.TensorSpec(v_input_shape, tf.float32, name='inp2'),\n",
    "                 #  tf.TensorSpec(v_input_shape, tf.float32, name='inp3'),\n",
    "                 #  tf.TensorSpec(v_input_shape, tf.float32, name='inp4'),\n",
    "                 #  tf.TensorSpec(v_input_shape, tf.float32, name='inp5'),\n",
    "                 #  tf.TensorSpec(v_input_shape, tf.float32, name='inp6'),\n",
    "                 #  tf.TensorSpec(v_input_shape, tf.float32, name='inp7'),\n",
    "                  # tf.TensorSpec(v_input_shape, tf.float32, name='inp8'),\n",
    "                   ]\n",
    "# Use from_function for tf functions\n",
    "model.output_names=['output']\n",
    "onnx_model, _ = tf2onnx.convert.from_keras(cnn, input_signature, opset=12)\n",
    "onnx.save(onnx_model, \"/home/mac/data/cnn.onnx\")"
   ],
   "outputs": [
    {
     "name": "stdout",
     "output_type": "stream",
     "text": [
      "(1, 3, 300, 420)\n"
     ]
    },
    {
     "name": "stderr",
     "output_type": "stream",
     "text": [
      "I0000 00:00:1730239137.327855   12960 devices.cc:67] Number of eligible GPUs (core count >= 8, compute capability >= 0.0): 0\n",
      "WARNING: All log messages before absl::InitializeLog() is called are written to STDERR\n",
      "I0000 00:00:1730239137.328122   12960 single_machine.cc:361] Starting new session\n",
      "I0000 00:00:1730239140.893346   12960 devices.cc:67] Number of eligible GPUs (core count >= 8, compute capability >= 0.0): 0\n",
      "I0000 00:00:1730239140.893635   12960 single_machine.cc:361] Starting new session\n"
     ]
    }
   ],
   "execution_count": 17
  },
  {
   "cell_type": "code",
   "execution_count": null,
   "metadata": {
    "id": "kchZTtKCc38x"
   },
   "outputs": [],
   "source": [
    "onnx_model, _ = tf2onnx.convert.from_tflite('fights0.tflite', opset=12)\n",
    "onnx.save(onnx_model, \"fights-tf.onnx\")"
   ]
  },
  {
   "cell_type": "code",
   "execution_count": null,
   "metadata": {
    "id": "LBt3PcWWsB_X"
   },
   "outputs": [],
   "source": [
    "rknn = RKNN(verbose=False)\n",
    "means = [2,2,2]\n",
    "#means = np.repeat(means[np.newaxis,...], 180, axis=0)\n",
    "#means = np.repeat(means[np.newaxis,...], 150, axis=0)\n",
    "\n",
    "rknn.config( target_platform='rv1106', mean_values=[means], std_values=[means], data_format='')\n",
    "ret = rknn.load_onnx(model='fights.onnx', inputs=['x'], input_size_list=[[10, 150, 180, 3]])\n",
    "ret = rknn.build(do_quantization=True, dataset='./dataset/dataset.txt')\n",
    "ret = rknn.export_rknn('out.rknn')"
   ]
  },
  {
   "cell_type": "code",
   "execution_count": null,
   "metadata": {
    "id": "RsLHdZsnT6_y"
   },
   "outputs": [],
   "source": [
    "acc = history.acc\n",
    "val_acc = history.val_acc\n",
    "loss = history.loss\n",
    "val_loss = history.val_loss\n",
    "epochs = range(len(acc))\n",
    "\n",
    "plt.plot(epochs, acc, 'b', label='Training acc')\n",
    "plt.plot(epochs, val_acc, 'r', label='Validation acc')\n",
    "plt.title('Training and validation accuracy')\n",
    "plt.legend()\n",
    "\n",
    "plt.figure()\n",
    "\n",
    "plt.plot(epochs, loss, 'b', label='Training loss')\n",
    "plt.plot(epochs, val_loss, 'r', label='Validation loss')\n",
    "plt.title('Training and validation loss')\n",
    "plt.legend()\n",
    "\n",
    "plt.show()"
   ]
  },
  {
   "cell_type": "code",
   "execution_count": null,
   "metadata": {
    "id": "1cbUAGCPT6_z"
   },
   "outputs": [],
   "source": [
    "score = model.evaluate(fights_test, y_test, batch_size=3)\n",
    "score"
   ]
  },
  {
   "cell_type": "code",
   "execution_count": null,
   "metadata": {
    "id": "m78egKGIT6_z"
   },
   "outputs": [],
   "source": [
    "from sklearn.metrics import classification_report, confusion_matrix"
   ]
  },
  {
   "cell_type": "code",
   "execution_count": null,
   "metadata": {
    "id": "i6re0P9mT6_z"
   },
   "outputs": [],
   "source": [
    "import pandas as pd\n",
    "import matplotlib.pyplot as plt\n",
    "import seaborn as sns\n",
    "\n",
    "def print_confusion_matrix(confusion_matrix, class_names, figsize = (10,7), fontsize=14):\n",
    "    df_cm = pd.DataFrame(\n",
    "        confusion_matrix, index=class_names, columns=class_names,\n",
    "    )\n",
    "    fig = plt.figure(figsize=figsize)\n",
    "    try:\n",
    "        heatmap = sns.heatmap(df_cm, annot=True, fmt=\"d\")\n",
    "    except ValueError:\n",
    "        raise ValueError(\"Confusion matrix values must be integers.\")\n",
    "    heatmap.yaxis.set_ticklabels(heatmap.yaxis.get_ticklabels(), rotation=0, ha='right', fontsize=fontsize)\n",
    "    heatmap.xaxis.set_ticklabels(heatmap.xaxis.get_ticklabels(), rotation=45, ha='right', fontsize=fontsize)\n",
    "    plt.ylabel('True label')\n",
    "    plt.xlabel('Predicted label')\n",
    "    return fig"
   ]
  },
  {
   "cell_type": "code",
   "execution_count": null,
   "metadata": {
    "id": "lVCl9BK5T6_z"
   },
   "outputs": [],
   "source": [
    "Y_pred = model.predict(fights_test , batch_size=1)"
   ]
  },
  {
   "cell_type": "code",
   "execution_count": null,
   "metadata": {
    "id": "pvxOgbbDT6_z"
   },
   "outputs": [],
   "source": [
    "yprd = Y_pred > 0.5\n",
    "yprd"
   ]
  },
  {
   "cell_type": "code",
   "execution_count": null,
   "metadata": {
    "id": "NYHQ2lVET6_z"
   },
   "outputs": [],
   "source": [
    "ypredicted = []\n",
    "for zero,one in yprd:\n",
    "    if zero == True:\n",
    "        ypredicted.append(0)\n",
    "    else:\n",
    "        ypredicted.append(1)"
   ]
  },
  {
   "cell_type": "code",
   "execution_count": null,
   "metadata": {
    "id": "evJopWXfT6_0"
   },
   "outputs": [],
   "source": [
    "ypredicted"
   ]
  },
  {
   "cell_type": "code",
   "execution_count": null,
   "metadata": {
    "id": "ZKDRD7R9T6_0"
   },
   "outputs": [],
   "source": [
    "y_test"
   ]
  },
  {
   "cell_type": "code",
   "execution_count": null,
   "metadata": {
    "id": "SnzTpvWiT6_0"
   },
   "outputs": [],
   "source": [
    "y = []\n",
    "\n",
    "for zero,one in y_test:\n",
    "    if zero == True:\n",
    "        y.append(0)\n",
    "    else:\n",
    "        y.append(1)"
   ]
  },
  {
   "cell_type": "code",
   "execution_count": null,
   "metadata": {
    "id": "PVktLCG0T6_0"
   },
   "outputs": [],
   "source": [
    "confusion = confusion_matrix(y,ypredicted)\n",
    "confusion.shape"
   ]
  },
  {
   "cell_type": "code",
   "execution_count": null,
   "metadata": {
    "id": "1RrnlE_QT6_0"
   },
   "outputs": [],
   "source": [
    "print_confusion_matrix(confusion, [0,1], figsize = (30,15), fontsize=16)"
   ]
  },
  {
   "cell_type": "code",
   "execution_count": null,
   "metadata": {
    "id": "teV2uv3fT6_0"
   },
   "outputs": [],
   "source": [
    "print('Classification Report')\n",
    "print(classification_report(y, ypredicted, target_names=['no-violance','violance']))"
   ]
  }
 ],
 "metadata": {
  "colab": {
   "provenance": [],
   "gpuType": "A100",
   "machine_shape": "hm"
  },
  "kernelspec": {
   "display_name": "Python 3 (ipykernel)",
   "name": "python3",
   "language": "python"
  },
  "language_info": {
   "codemirror_mode": {
    "name": "ipython",
    "version": 3
   },
   "file_extension": ".py",
   "mimetype": "text/x-python",
   "name": "python",
   "nbconvert_exporter": "python",
   "pygments_lexer": "ipython3",
   "version": "3.7.5"
  },
  "accelerator": "GPU"
 },
 "nbformat": 4,
 "nbformat_minor": 0
}
